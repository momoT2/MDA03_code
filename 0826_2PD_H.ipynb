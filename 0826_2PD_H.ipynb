{
 "cells": [
  {
   "cell_type": "code",
   "execution_count": 1026,
   "id": "2724770c",
   "metadata": {},
   "outputs": [],
   "source": [
    "import pandas as pd\n",
    "from pandas.plotting import scatter_matrix\n",
    "import numpy as np\n",
    "import matplotlib\n",
    "%matplotlib inline\n",
    "import seaborn as sns\n",
    "import missingno as msno\n",
    "import shap\n",
    "import matplotlib.pyplot as plt\n",
    "from sklearn.model_selection import train_test_split, StratifiedKFold, cross_val_score\n",
    "from sklearn.svm import SVC\n",
    "from sklearn.neighbors import KNeighborsClassifier\n",
    "from sklearn.preprocessing import StandardScaler\n",
    "from sklearn.pipeline import Pipeline\n",
    "from sklearn.metrics import accuracy_score\n",
    "from sklearn.metrics import classification_report"
   ]
  },
  {
   "cell_type": "markdown",
   "id": "e594820b",
   "metadata": {},
   "source": [
    "### 결측치 점검"
   ]
  },
  {
   "cell_type": "code",
   "execution_count": 1027,
   "id": "e8b0bb19",
   "metadata": {},
   "outputs": [
    {
     "name": "stdout",
     "output_type": "stream",
     "text": [
      "<class 'pandas.core.frame.DataFrame'>\n",
      "RangeIndex: 14956 entries, 0 to 14955\n",
      "Columns: 254 entries, id to hm_01_rel_t\n",
      "dtypes: float64(178), int64(74), object(2)\n",
      "memory usage: 29.0+ MB\n"
     ]
    }
   ],
   "source": [
    "df_raw = pd.read_csv('C:\\\\Users\\\\user\\\\Downloads\\\\0822_H_data.csv')\n",
    "\n",
    "df_raw.info()"
   ]
  },
  {
   "cell_type": "code",
   "execution_count": 1028,
   "id": "918f384f",
   "metadata": {},
   "outputs": [],
   "source": [
    "df = df_raw.drop(['emp_keep_a', 'hazard_phy_d','hazard_phy_a','hazard_phy_c','hazard_phy_e','hazard_phy_f','hazard_phy_g','hazard_phy_h', 'hazard_phy_i', 'ch_downsizing', 'job_c1_r', 'job_c1', 'emp_pay_type', 'skillmat', 'emp_comp_com_a','emp_comp_com_b','emp_comp_com_c','ch_ic','ch_restruct','wplace_sl','emp_noncon', 'wcomback'], axis = 1)"
   ]
  },
  {
   "cell_type": "code",
   "execution_count": 1029,
   "id": "30bcd0a9",
   "metadata": {},
   "outputs": [
    {
     "name": "stdout",
     "output_type": "stream",
     "text": [
      "                  컬럼명  널값 개수  널값비율\n",
      "0         comp_size_b    870  5.82\n",
      "1        wtime_ftwork    584  3.90\n",
      "2            emp_keep    581  3.88\n",
      "3          emo_manual    307  2.05\n",
      "4    wtime_resilience    279  1.87\n",
      "..                ...    ...   ...\n",
      "150       wsituation7      2  0.01\n",
      "151      wsituation13      1  0.01\n",
      "152            wstat1      1  0.01\n",
      "153         winten2_a      2  0.01\n",
      "154     wtime_length3      2  0.01\n",
      "\n",
      "[155 rows x 3 columns]\n"
     ]
    }
   ],
   "source": [
    "# 널값 개수와 비율 계산\n",
    "null_summary = (\n",
    "    df.isnull().sum()\n",
    "      .to_frame(\"널값 개수\")\n",
    "      .assign(널값비율 = lambda x: (x[\"널값 개수\"] / len(df_raw) * 100).round(2))\n",
    "      .reset_index()\n",
    "      .rename(columns={'index': '컬럼명'})\n",
    ")\n",
    "\n",
    "# 널값 있는 열만 필터링 & 비율 기준 내림차순 정렬\n",
    "null_summary = (\n",
    "    null_summary[null_summary[\"널값 개수\"] > 0]\n",
    "    .sort_values(by=\"널값비율\", ascending=False)\n",
    "    .reset_index(drop=True)\n",
    ")\n",
    "\n",
    "print(null_summary)"
   ]
  },
  {
   "cell_type": "code",
   "execution_count": 1030,
   "id": "52a2dcfe",
   "metadata": {},
   "outputs": [],
   "source": [
    "# start 파일\n",
    "# df.to_csv(\"2PD_v1_0822.csv\", encoding=\"CP949\")"
   ]
  },
  {
   "cell_type": "markdown",
   "id": "59642bb3",
   "metadata": {},
   "source": [
    "### 중복 피쳐 삭제/8,9->결측치 수정"
   ]
  },
  {
   "cell_type": "code",
   "execution_count": 1031,
   "id": "27794ee2",
   "metadata": {},
   "outputs": [
    {
     "name": "stdout",
     "output_type": "stream",
     "text": [
      "              id burnout60  area  gender  age  wduration_y  earning1  \\\n",
      "0      1000042_1       lv1     1       1   49           10       500   \n",
      "1      1000051_1       lv2     1       1   31            2       300   \n",
      "2      1000056_1       lv1     1       1   32            2       300   \n",
      "3      1000069_1       lv1     1       1   38            2       390   \n",
      "4      1000069_2       lv1     1       2   37            5       330   \n",
      "...          ...       ...   ...     ...  ...          ...       ...   \n",
      "14951  2010124_1       lv1     7       1   37            6       450   \n",
      "14952  2010133_1       lv2     7       2   46            3       230   \n",
      "14953  2010134_2       lv1     7       2   34            5       320   \n",
      "14954  2010137_1       lv1     7       1   57            5       450   \n",
      "14955  2010137_2       lv1     7       2   29            3       350   \n",
      "\n",
      "       earning2_r  wtime_r  woutside4_a  ...  edu  marital  children  \\\n",
      "0               6     40.0            1  ...  5.0      1.0       1.0   \n",
      "1               4     48.0            1  ...  6.0      2.0       2.0   \n",
      "2               4     50.0            1  ...  5.0      2.0       2.0   \n",
      "3               4     40.0            1  ...  6.0      1.0       1.0   \n",
      "4               4     40.0            1  ...  6.0      1.0       2.0   \n",
      "...           ...      ...          ...  ...  ...      ...       ...   \n",
      "14951           5     40.0            1  ...  6.0      2.0       2.0   \n",
      "14952           3     40.0            1  ...  5.0      2.0       2.0   \n",
      "14953           4     40.0            1  ...  6.0      2.0       2.0   \n",
      "14954           5     40.0            1  ...  6.0      1.0       1.0   \n",
      "14955           4     40.0            1  ...  6.0      2.0       2.0   \n",
      "\n",
      "       panel_survey  ind  ind2  occ  occ2  comp_sizea_r  comp_sizeb_r  \n",
      "0                 2    7    46    3   313           4.0             4  \n",
      "1                 2    7    47    3   312          11.0            11  \n",
      "2                 2    9    56    4   441           2.0             2  \n",
      "3                 2    6    42    3   312          10.0            10  \n",
      "4                 2   13    71    2   273           7.0             7  \n",
      "...             ...  ...   ...  ...   ...           ...           ...  \n",
      "14951             2   16    85    2   252           6.0             6  \n",
      "14952             2    8    52    3   313           4.0             4  \n",
      "14953             2   11    64    3   320           4.0             4  \n",
      "14954             2    7    46    5   510           4.0             4  \n",
      "14955             2   10    61    7   772           4.0             4  \n",
      "\n",
      "[14956 rows x 218 columns]\n"
     ]
    }
   ],
   "source": [
    "# 불필요한 피쳐 삭제하기 (14개)\n",
    "df = df.drop(columns=[\"ptime_r\", \"stratification\", \"district\", \"household\", \"target\", \"mode\", \"hh_num\", \"eli_num\", \"hm_01_gender\", \"hm_01_year\", \"hm_01_estat\", \"hm_01_rel_t\",\"wtime_week\", \"earning1_r\"])\n",
    "\n",
    "print(df)"
   ]
  },
  {
   "cell_type": "code",
   "execution_count": 1032,
   "id": "ef57aabb",
   "metadata": {},
   "outputs": [
    {
     "name": "stdout",
     "output_type": "stream",
     "text": [
      "[6 2 1 7 5 4 3 <NA>]\n",
      "[1 5 6 3 4 7 2 <NA>]\n",
      "[ 7.  6.  2.  5.  4.  3.  1. nan]\n",
      "[ 7.  2.  5.  4.  6.  3. nan  1.]\n",
      "[ 7.  3.  5.  6.  4.  2.  1. nan]\n"
     ]
    }
   ],
   "source": [
    "# 전처리: 8, 9 NULL (5개)\n",
    "cols = [\"hazard_erg_a\", \"hazard_erg_b\", \"hazard_erg_c\", \"hazard_erg_d\", \"hazard_erg_e\"]\n",
    "\n",
    "df[cols] = df[cols].replace([8, 9], pd.NA)\n",
    "\n",
    "print(df['hazard_erg_a'].unique())\n",
    "print(df['hazard_erg_b'].unique())\n",
    "print(df['hazard_erg_c'].unique())\n",
    "print(df['hazard_erg_d'].unique())\n",
    "print(df['hazard_erg_e'].unique())\n"
   ]
  },
  {
   "cell_type": "code",
   "execution_count": 1033,
   "id": "af6c3efc",
   "metadata": {},
   "outputs": [],
   "source": [
    "# 잘못 변경된 변수명 복원\n",
    "df.rename(columns={\n",
    "    \"wsituation\": \"wsituation8\",\n",
    "    \"wsituation.1\": \"wsituation9\",\n",
    "    \"disc\": \"disc9\",\n",
    "    \"disc.1\": \"disc8\"\n",
    "}, inplace=True)"
   ]
  },
  {
   "cell_type": "markdown",
   "id": "5eab22d2",
   "metadata": {},
   "source": [
    "### 긍/부정 변경"
   ]
  },
  {
   "cell_type": "code",
   "execution_count": 1034,
   "id": "80e5872c",
   "metadata": {},
   "outputs": [
    {
     "data": {
      "text/plain": [
       "0    2\n",
       "1    2\n",
       "2    2\n",
       "3    3\n",
       "4    5\n",
       "5    5\n",
       "6    5\n",
       "7    5\n",
       "8    5\n",
       "9    5\n",
       "Name: wstat4, dtype: int64"
      ]
     },
     "execution_count": 1034,
     "metadata": {},
     "output_type": "execute_result"
    }
   ],
   "source": [
    "df[\"wstat4\"].head(10) "
   ]
  },
  {
   "cell_type": "code",
   "execution_count": 1035,
   "id": "6ecf7446",
   "metadata": {},
   "outputs": [
    {
     "data": {
      "text/plain": [
       "0    4\n",
       "1    4\n",
       "2    4\n",
       "3    3\n",
       "4    1\n",
       "5    1\n",
       "6    1\n",
       "7    1\n",
       "8    1\n",
       "9    1\n",
       "Name: wstat4, dtype: int64"
      ]
     },
     "execution_count": 1035,
     "metadata": {},
     "output_type": "execute_result"
    }
   ],
   "source": [
    "# 긍/부정 변경\n",
    "# 5점 척도\n",
    "\n",
    "cols = [\n",
    "    \"wstat4\", \"wstat6\",\n",
    "    \"wwa1\", \"wwa2\", \"wwa3\", \"wwa4\", \"wwa5\",\n",
    "    \"sleep1\", \"sleep2\", \"sleep3\",\n",
    "    \"imte1\", \"imte2\", \"imte3\", \"imte4\", \"imte5\",\n",
    "    \"wsituation12\", \"wsituation14\"\n",
    "]\n",
    "\n",
    "# 변환 딕셔너리 (5점 척도 역코딩)\n",
    "reverse_map = {1: 5, 2: 4, 3: 3, 4: 2, 5: 1}\n",
    "\n",
    "# 여러 열에 적용\n",
    "for col in cols:\n",
    "    df[col] = df[col].map(reverse_map).fillna(df[col])\n",
    "\n",
    "df[\"wstat4\"].head(10) "
   ]
  },
  {
   "cell_type": "code",
   "execution_count": 1036,
   "id": "d182286f",
   "metadata": {},
   "outputs": [
    {
     "name": "stdout",
     "output_type": "stream",
     "text": [
      "['id', 'burnout60', 'area', 'gender', 'age', 'wduration_y', 'earning1', 'earning2_r', 'wtime_r', 'woutside4_a', 'wtime_length5', 'age_group', 'emp_period_group', 'wtime_group', 'compsize_group', 'woutside_group', 'compsize_group_a', 'wday_week_group_a', 'woutside4_group_a', 'occ_t2_group_a', 'earning2_group_b', 'occ_group_a', 'emp_stat', 'emp_con_term', 'emp_keep', 'emp_own_mgmt', 'emp_fptime', 'emp_wage', 'emp_stat_sp', 'income_pos_a', 'income_pos_b', 'income_pos_c', 'income_pos_d', 'income_pos_e', 'income_pos_f', 'income_pos_g', 'income_pos_h', 'income_pos_i', 'income_pos_j', 'emp_place', 'emp_suggest_a', 'emp_suggest_b', 'emp_boss_gender', 'emp_manaqual_a', 'emp_manaqual_b', 'emp_manaqual_c', 'emp_manaqual_d', 'emp_manaqual_e', 'emp_comp_ass_a', 'emp_comp_ass_b', 'emp_comp_ass_c', 'emp_comp_ass_d', 'emp_comp_ass_e', 'emp_comp_ass_f', 'emp_rep', 'emp_winflu_a', 'emp_winflu_b', 'emp_winflu_c', 'emp_tra_b', 'emp_tra_c', 'emp_tra_d', 'wsector', 'comp_size_a', 'comp_size_b', 'comp_female', 'comp_sjob', 'ch_tech', 'ch_me', 'ch_ps', 'imte1', 'imte2', 'imte3', 'imte4', 'imte5', 'safeinform', 'wsituation1', 'wsituation2', 'wsituation3', 'wsituation4', 'wsituation5', 'wsituation11', 'wsituation6', 'wsituation7', 'wsituation8', 'wsituation9', 'wsituation10', 'wsituation12', 'wsituation13', 'wsituation14', 'wstat1', 'wstat2', 'wstat3', 'wstat4', 'wstat5', 'wstat6', 'wstat7', 'emo_manual', 'asb5', 'asb6', 'asb7', 'disc1', 'disc5', 'disc9', 'disc10', 'disc11', 'disc6', 'disc7', 'disc8', 'disc2', 'disc3', 'disc4', 'wtime_con1', 'wday', 'wday_week', 'ctime', 'wtime_night_a', 'wtime_sun_a', 'wtime_sat_a', 'wtime_long_a', 'wtime_night2', 'wtime_night3', 'wtime_resilience', 'wtime_arr_a', 'wtime_ftwork', 'wtime_ftcomtool', 'wtime_private', 'hazard_phy_b', 'hazard_erg_a', 'hazard_erg_b', 'hazard_erg_c', 'hazard_erg_d', 'hazard_erg_e', 'winten2_a', 'winten2_b', 'winten1_a', 'winten1_b', 'decla_a', 'decla_b', 'decla_c', 'winten3_a', 'winten3_b', 'winten3_c', 'winten3_d', 'winten3_e', 'winterrupt1', 'weng1', 'weng2', 'weng3', 'weng4', 'weng5', 'condim1', 'condim2', 'condim3', 'condim4', 'condim5', 'condim6', 'ass_cust1', 'alter_task1', 'wteam1', 'satisfaction', 'wplace4', 'wplace3', 'wplace2', 'wplace1', 'wpalce_ch', 'wtime_length1', 'wtime_length2', 'wtime_length3', 'wtime_length4', 'job1', 'wtime', 'wbalance', 'wwa1', 'wwa2', 'wwa3', 'wwa4', 'wwa5', 'heal_risk', 'heal_abs1', 'heal_wsick1', 'asb1', 'asb2', 'asb3', 'asb4', 'heal_aff', 'heal_cond', 'heal_illhe', 'heal_lim1', 'heal_prob1', 'heal_prob2', 'heal_prob3', 'heal_prob4', 'heal_prob5', 'heal_prob6', 'heal_prob8', 'sleep1', 'sleep2', 'sleep3', 'who1', 'who2', 'who3', 'who4', 'who5', 'woutside3', 'woutside4', 'woutside5', 'income_con', 'income_bal', 'edu', 'marital', 'children', 'panel_survey', 'ind', 'ind2', 'occ', 'occ2', 'comp_sizea_r', 'comp_sizeb_r']\n",
      "   heal_lim1\n",
      "0        1.0\n",
      "1        1.0\n",
      "2        1.0\n",
      "3        1.0\n",
      "4        1.0\n"
     ]
    },
    {
     "data": {
      "text/plain": [
       "0    1.0\n",
       "1    1.0\n",
       "2    1.0\n",
       "3    1.0\n",
       "4    1.0\n",
       "5    1.0\n",
       "6    1.0\n",
       "7    1.0\n",
       "8    1.0\n",
       "9    1.0\n",
       "Name: heal_lim1, dtype: float64"
      ]
     },
     "execution_count": 1036,
     "metadata": {},
     "output_type": "execute_result"
    }
   ],
   "source": [
    "# 3점 척도 \n",
    "cols_2 = [\n",
    "   \"heal_lim1\"\n",
    "]\n",
    "\n",
    "# 변환 딕셔너리 (3점 척도 역코딩)\n",
    "reverse_map = {1: 3, 2: 2, 3: 1}\n",
    "\n",
    "# 여러 열에 적용\n",
    "for col in cols_2:\n",
    "    df[col] = df[col].map(reverse_map).fillna(df[col])\n",
    "\n",
    "\n",
    "#%%\n",
    "print(df.columns.tolist())\n",
    "#%%\n",
    "print(df[cols_2].head())\n",
    "#%%\n",
    "df[\"heal_lim1\"].head(10) \n",
    "#%%\n"
   ]
  },
  {
   "cell_type": "code",
   "execution_count": 1037,
   "id": "6e6bc311",
   "metadata": {},
   "outputs": [
    {
     "name": "stdout",
     "output_type": "stream",
     "text": [
      "['id', 'burnout60', 'area', 'gender', 'age', 'wduration_y', 'earning1', 'earning2_r', 'wtime_r', 'woutside4_a', 'wtime_length5', 'age_group', 'emp_period_group', 'wtime_group', 'compsize_group', 'woutside_group', 'compsize_group_a', 'wday_week_group_a', 'woutside4_group_a', 'occ_t2_group_a', 'earning2_group_b', 'occ_group_a', 'emp_stat', 'emp_con_term', 'emp_keep', 'emp_own_mgmt', 'emp_fptime', 'emp_wage', 'emp_stat_sp', 'income_pos_a', 'income_pos_b', 'income_pos_c', 'income_pos_d', 'income_pos_e', 'income_pos_f', 'income_pos_g', 'income_pos_h', 'income_pos_i', 'income_pos_j', 'emp_place', 'emp_suggest_a', 'emp_suggest_b', 'emp_boss_gender', 'emp_manaqual_a', 'emp_manaqual_b', 'emp_manaqual_c', 'emp_manaqual_d', 'emp_manaqual_e', 'emp_comp_ass_a', 'emp_comp_ass_b', 'emp_comp_ass_c', 'emp_comp_ass_d', 'emp_comp_ass_e', 'emp_comp_ass_f', 'emp_rep', 'emp_winflu_a', 'emp_winflu_b', 'emp_winflu_c', 'emp_tra_b', 'emp_tra_c', 'emp_tra_d', 'wsector', 'comp_size_a', 'comp_size_b', 'comp_female', 'comp_sjob', 'ch_tech', 'ch_me', 'ch_ps', 'imte1', 'imte2', 'imte3', 'imte4', 'imte5', 'safeinform', 'wsituation1', 'wsituation2', 'wsituation3', 'wsituation4', 'wsituation5', 'wsituation11', 'wsituation6', 'wsituation7', 'wsituation8', 'wsituation9', 'wsituation10', 'wsituation12', 'wsituation13', 'wsituation14', 'wstat1', 'wstat2', 'wstat3', 'wstat4', 'wstat5', 'wstat6', 'wstat7', 'emo_manual', 'asb5', 'asb6', 'asb7', 'disc1', 'disc5', 'disc9', 'disc10', 'disc11', 'disc6', 'disc7', 'disc8', 'disc2', 'disc3', 'disc4', 'wtime_con1', 'wday', 'wday_week', 'ctime', 'wtime_night_a', 'wtime_sun_a', 'wtime_sat_a', 'wtime_long_a', 'wtime_night2', 'wtime_night3', 'wtime_resilience', 'wtime_arr_a', 'wtime_ftwork', 'wtime_ftcomtool', 'wtime_private', 'hazard_phy_b', 'hazard_erg_a', 'hazard_erg_b', 'hazard_erg_c', 'hazard_erg_d', 'hazard_erg_e', 'winten2_a', 'winten2_b', 'winten1_a', 'winten1_b', 'decla_a', 'decla_b', 'decla_c', 'winten3_a', 'winten3_b', 'winten3_c', 'winten3_d', 'winten3_e', 'winterrupt1', 'weng1', 'weng2', 'weng3', 'weng4', 'weng5', 'condim1', 'condim2', 'condim3', 'condim4', 'condim5', 'condim6', 'ass_cust1', 'alter_task1', 'wteam1', 'satisfaction', 'wplace4', 'wplace3', 'wplace2', 'wplace1', 'wpalce_ch', 'wtime_length1', 'wtime_length2', 'wtime_length3', 'wtime_length4', 'job1', 'wtime', 'wbalance', 'wwa1', 'wwa2', 'wwa3', 'wwa4', 'wwa5', 'heal_risk', 'heal_abs1', 'heal_wsick1', 'asb1', 'asb2', 'asb3', 'asb4', 'heal_aff', 'heal_cond', 'heal_illhe', 'heal_lim1', 'heal_prob1', 'heal_prob2', 'heal_prob3', 'heal_prob4', 'heal_prob5', 'heal_prob6', 'heal_prob8', 'sleep1', 'sleep2', 'sleep3', 'who1', 'who2', 'who3', 'who4', 'who5', 'woutside3', 'woutside4', 'woutside5', 'income_con', 'income_bal', 'edu', 'marital', 'children', 'panel_survey', 'ind', 'ind2', 'occ', 'occ2', 'comp_sizea_r', 'comp_sizeb_r']\n",
      "   imte1  imte2  imte3  imte4  imte5\n",
      "0    1.0    1.0    1.0    5.0    5.0\n",
      "1    1.0    1.0    5.0    5.0    1.0\n",
      "2    1.0    1.0    2.0    2.0    1.0\n",
      "3    3.0    3.0    3.0    2.0    3.0\n",
      "4    2.0    2.0    1.0    3.0    2.0\n"
     ]
    },
    {
     "data": {
      "text/plain": [
       "0    1.0\n",
       "1    1.0\n",
       "2    1.0\n",
       "3    3.0\n",
       "4    2.0\n",
       "5    2.0\n",
       "6    2.0\n",
       "7    1.0\n",
       "8    2.0\n",
       "9    2.0\n",
       "Name: imte1, dtype: float64"
      ]
     },
     "execution_count": 1037,
     "metadata": {},
     "output_type": "execute_result"
    }
   ],
   "source": [
    "# 4점 척도\n",
    "cols_1 = [\n",
    "    \"imte1\", \"imte2\", \"imte3\", \"imte4\", \"imte5\",\n",
    "]\n",
    "\n",
    "# 변환 딕셔너리 (4점 척도 역코딩)\n",
    "reverse_map = {1: 4, 2: 3, 3: 2, 4: 1}\n",
    "\n",
    "# 여러 열에 적용\n",
    "for col in cols_1:\n",
    "    df[col] = df[col].map(reverse_map).fillna(df[col])\n",
    "\n",
    "\n",
    "#%%\n",
    "print(df.columns.tolist())\n",
    "#%%\n",
    "print(df[cols_1].head())\n",
    "#%%\n",
    "df[\"imte1\"].head(10) \n",
    "#%%"
   ]
  },
  {
   "cell_type": "markdown",
   "id": "ffc0354e",
   "metadata": {},
   "source": [
    "### 연속형 변수 재범주화"
   ]
  },
  {
   "cell_type": "code",
   "execution_count": 1038,
   "id": "a8e184dc",
   "metadata": {},
   "outputs": [
    {
     "data": {
      "text/plain": [
       "heal_abs1\n",
       "0.0      14127\n",
       "2.0        181\n",
       "1.0        127\n",
       "3.0        113\n",
       "5.0         80\n",
       "7.0         65\n",
       "10.0        31\n",
       "8.0         25\n",
       "4.0         24\n",
       "6.0         10\n",
       "15.0         9\n",
       "20.0         6\n",
       "30.0         6\n",
       "14.0         5\n",
       "13.0         5\n",
       "12.0         4\n",
       "90.0         3\n",
       "60.0         2\n",
       "11.0         1\n",
       "180.0        1\n",
       "120.0        1\n",
       "50.0         1\n",
       "21.0         1\n",
       "Name: count, dtype: int64"
      ]
     },
     "execution_count": 1038,
     "metadata": {},
     "output_type": "execute_result"
    }
   ],
   "source": [
    "df['heal_abs1'].value_counts()"
   ]
  },
  {
   "cell_type": "code",
   "execution_count": 1039,
   "id": "d1471986",
   "metadata": {},
   "outputs": [
    {
     "name": "stdout",
     "output_type": "stream",
     "text": [
      "0    1\n",
      "1    1\n",
      "2    1\n",
      "3    1\n",
      "4    1\n",
      "Name: heal_abs1_group, dtype: int64\n"
     ]
    },
    {
     "data": {
      "text/plain": [
       "heal_abs1_group\n",
       "1    14127\n",
       "2      829\n",
       "Name: count, dtype: int64"
      ]
     },
     "execution_count": 1039,
     "metadata": {},
     "output_type": "execute_result"
    }
   ],
   "source": [
    "# 범주화 \n",
    "\n",
    "df[\"heal_abs1_group\"] = np.where(df[\"heal_abs1\"] == 0, 0, 1)\n",
    "df['heal_abs1_group'] = df['heal_abs1_group'].map({0: 1, 1: 2})\n",
    "#%%\n",
    "print(df[\"heal_abs1_group\"].head())\n",
    "#%%\n",
    "df[\"heal_abs1_group\"].value_counts()\n"
   ]
  },
  {
   "cell_type": "code",
   "execution_count": 1040,
   "id": "44d81def",
   "metadata": {},
   "outputs": [
    {
     "name": "stdout",
     "output_type": "stream",
     "text": [
      "0      1\n",
      "1      1\n",
      "2      1\n",
      "3      2\n",
      "4    NaN\n",
      "Name: ctime_group, dtype: category\n",
      "Categories (3, int64): [1 < 2 < 3]\n"
     ]
    },
    {
     "data": {
      "text/plain": [
       "ctime_group\n",
       "1    12582\n",
       "2     1150\n",
       "3      328\n",
       "Name: count, dtype: int64"
      ]
     },
     "execution_count": 1040,
     "metadata": {},
     "output_type": "execute_result"
    }
   ],
   "source": [
    "# 구간 (0~60, 61~120, 121 이상)\n",
    "bins = [0, 60, 120, float(\"inf\")]\n",
    "labels = [1, 2, 3]\n",
    "\n",
    "df[\"ctime_group\"] = pd.cut(df[\"ctime\"], bins=bins, labels=labels, right=True)\n",
    "#%%\n",
    "print(df[\"ctime_group\"].head())\n",
    "#%%\n",
    "df[\"ctime_group\"].value_counts()\n",
    "#%%"
   ]
  },
  {
   "cell_type": "code",
   "execution_count": 1041,
   "id": "7a45e574",
   "metadata": {},
   "outputs": [
    {
     "name": "stdout",
     "output_type": "stream",
     "text": [
      "              id burnout60  area  gender  age  wduration_y  earning1  \\\n",
      "0      1000042_1       lv1     1       1   49           10       500   \n",
      "1      1000051_1       lv2     1       1   31            2       300   \n",
      "2      1000056_1       lv1     1       1   32            2       300   \n",
      "3      1000069_1       lv1     1       1   38            2       390   \n",
      "4      1000069_2       lv1     1       2   37            5       330   \n",
      "...          ...       ...   ...     ...  ...          ...       ...   \n",
      "14951  2010124_1       lv1     7       1   37            6       450   \n",
      "14952  2010133_1       lv2     7       2   46            3       230   \n",
      "14953  2010134_2       lv1     7       2   34            5       320   \n",
      "14954  2010137_1       lv1     7       1   57            5       450   \n",
      "14955  2010137_2       lv1     7       2   29            3       350   \n",
      "\n",
      "       earning2_r  wtime_r  woutside4_a  ...  children  panel_survey  ind  \\\n",
      "0               6     40.0            1  ...       1.0             2    7   \n",
      "1               4     48.0            1  ...       2.0             2    7   \n",
      "2               4     50.0            1  ...       2.0             2    9   \n",
      "3               4     40.0            1  ...       1.0             2    6   \n",
      "4               4     40.0            1  ...       2.0             2   13   \n",
      "...           ...      ...          ...  ...       ...           ...  ...   \n",
      "14951           5     40.0            1  ...       2.0             2   16   \n",
      "14952           3     40.0            1  ...       2.0             2    8   \n",
      "14953           4     40.0            1  ...       2.0             2   11   \n",
      "14954           5     40.0            1  ...       1.0             2    7   \n",
      "14955           4     40.0            1  ...       2.0             2   10   \n",
      "\n",
      "       ind2  occ  occ2  comp_sizea_r  comp_sizeb_r  heal_abs1_group  \\\n",
      "0        46    3   313           4.0             4                1   \n",
      "1        47    3   312          11.0            11                1   \n",
      "2        56    4   441           2.0             2                1   \n",
      "3        42    3   312          10.0            10                1   \n",
      "4        71    2   273           7.0             7                1   \n",
      "...     ...  ...   ...           ...           ...              ...   \n",
      "14951    85    2   252           6.0             6                1   \n",
      "14952    52    3   313           4.0             4                1   \n",
      "14953    64    3   320           4.0             4                1   \n",
      "14954    46    5   510           4.0             4                1   \n",
      "14955    61    7   772           4.0             4                1   \n",
      "\n",
      "       ctime_group  \n",
      "0                1  \n",
      "1                1  \n",
      "2                1  \n",
      "3                2  \n",
      "4              NaN  \n",
      "...            ...  \n",
      "14951            1  \n",
      "14952            1  \n",
      "14953            1  \n",
      "14954            1  \n",
      "14955            2  \n",
      "\n",
      "[14956 rows x 218 columns]\n"
     ]
    }
   ],
   "source": [
    "# 파생변수로 대체된 컬럼 삭제\n",
    "df = df.drop(['heal_abs1','ctime'], axis = 1)\n",
    "print(df)"
   ]
  },
  {
   "cell_type": "markdown",
   "id": "9f4b128e",
   "metadata": {},
   "source": [
    "### 중복 피쳐 삭제"
   ]
  },
  {
   "cell_type": "code",
   "execution_count": 1042,
   "id": "906911f1",
   "metadata": {},
   "outputs": [],
   "source": [
    "# 1차 프로젝트에서 파생변수 만들었던 변수 삭제\n",
    "df = df.drop(['occ', 'occ2', 'age', 'earning2_r', 'wday_week', 'woutside4', 'wtime_r', 'wduration_y'], axis = 1)"
   ]
  },
  {
   "cell_type": "markdown",
   "id": "9203cc19",
   "metadata": {},
   "source": [
    "### 상관관계 매트릭스 분석"
   ]
  },
  {
   "cell_type": "code",
   "execution_count": 1043,
   "id": "5b5e430a",
   "metadata": {},
   "outputs": [],
   "source": [
    "import seaborn as sns\n",
    "import matplotlib.pyplot as plt\n",
    "\n",
    "corr = df.corr(numeric_only=True)\n",
    "# sns.heatmap(corr, cmap=\"coolwarm\", center=0)\n",
    "# plt.show()"
   ]
  },
  {
   "cell_type": "code",
   "execution_count": 1044,
   "id": "ec553c28",
   "metadata": {},
   "outputs": [
    {
     "name": "stdout",
     "output_type": "stream",
     "text": [
      "                    변수1           변수2      상관계수\n",
      "10060       comp_size_b  comp_sizeb_r  1.000000\n",
      "10059       comp_size_b  comp_sizea_r  1.000000\n",
      "15552             disc3         disc4  0.988628\n",
      "20492               ind          ind2  0.985571\n",
      "15452             disc2         disc3  0.984493\n",
      "15453             disc2         disc4  0.982562\n",
      "1780     compsize_group  comp_sizeb_r  0.975227\n",
      "1636     compsize_group   comp_size_b  0.969841\n",
      "15351             disc8         disc2  0.962101\n",
      "15353             disc8         disc4  0.956305\n",
      "15352             disc8         disc3  0.954483\n",
      "15249             disc7         disc8  0.944109\n",
      "15250             disc7         disc2  0.920967\n",
      "20499      comp_sizea_r  comp_sizeb_r  0.920086\n",
      "2165   compsize_group_a  comp_sizeb_r  0.916659\n",
      "15252             disc7         disc4  0.913893\n",
      "15251             disc7         disc3  0.913422\n",
      "1779     compsize_group  comp_sizea_r  0.910546\n",
      "2021   compsize_group_a   comp_size_b  0.893071\n",
      "15146             disc6         disc7  0.886284\n"
     ]
    }
   ],
   "source": [
    "# 상관계수 절댓값이 0.8 이상인 쌍만 추출 (자기 자신 제외)\n",
    "high_corr = (\n",
    "    corr.where(np.triu(np.ones(corr.shape), k=1).astype(bool))  \n",
    "        .stack()                                               \n",
    "        .reset_index()\n",
    "        .rename(columns={'level_0': '변수1', 'level_1': '변수2', 0: '상관계수'})\n",
    ")\n",
    "\n",
    "# 조건 필터링\n",
    "high_corr = high_corr[high_corr['상관계수'].abs() >= 0.8]\n",
    "\n",
    "print(high_corr.sort_values(by='상관계수', ascending=False).head(20))"
   ]
  },
  {
   "cell_type": "code",
   "execution_count": 1045,
   "id": "8c0c193f",
   "metadata": {},
   "outputs": [
    {
     "name": "stdout",
     "output_type": "stream",
     "text": [
      "조건 충족하는 변수 개수: 23\n",
      "변수 목록: {'disc2', 'comp_sizea_r', 'compsize_group', 'disc6', 'woutside_group', 'ind', 'earning1', 'earning2_group_b', 'winten2_b', 'comp_size_b', 'disc3', 'disc7', 'decla_b', 'decla_a', 'woutside4_a', 'disc8', 'winten3_c', 'disc4', 'winten2_a', 'winten3_d', 'ind2', 'compsize_group_a', 'comp_sizeb_r'}\n"
     ]
    }
   ],
   "source": [
    "unique_vars = set(high_corr['변수1']).union(set(high_corr['변수2']))\n",
    "print(\"조건 충족하는 변수 개수:\", len(unique_vars))\n",
    "print(\"변수 목록:\", unique_vars)"
   ]
  },
  {
   "cell_type": "code",
   "execution_count": 1046,
   "id": "cea9ee15",
   "metadata": {},
   "outputs": [],
   "source": [
    "# 상관분석 결과 필요없는 변수 삭제\n",
    "df = df.drop(['comp_size_b', 'comp_sizea_r', 'comp_sizeb_r', 'ind', 'ind2', 'earning1', 'woutside4_a'], axis = 1)"
   ]
  },
  {
   "cell_type": "code",
   "execution_count": 1047,
   "id": "30e2ed25",
   "metadata": {},
   "outputs": [
    {
     "name": "stdout",
     "output_type": "stream",
     "text": [
      "[2 1]\n"
     ]
    }
   ],
   "source": [
    "# disc 변수 : 차별 유/무로 파생변수 생성\n",
    "cols = ['disc1','disc2','disc3','disc4','disc5',\n",
    "        'disc6','disc7','disc8','disc9','disc10','disc11']\n",
    "\n",
    "# 하나라도 1이 있으면 1, 아니면 0\n",
    "df['disc_group'] = (df[cols].sum(axis=1) > 0).astype(int)\n",
    "\n",
    "df['disc_group'] = df['disc_group'].map({0: 1, 1: 2})\n",
    "\n",
    "print(df['disc_group'].unique())"
   ]
  },
  {
   "cell_type": "code",
   "execution_count": 1048,
   "id": "db319db9",
   "metadata": {},
   "outputs": [
    {
     "name": "stdout",
     "output_type": "stream",
     "text": [
      "[2 1]\n"
     ]
    }
   ],
   "source": [
    "# decla 변수 : 작업선택의 가능성 유/무로 파생변수 생성\n",
    "cols = ['decla_a','decla_b']\n",
    "\n",
    "# 하나라도 1이 있으면 1, 아니면 0\n",
    "df['decla_group'] = (df[cols].sum(axis=1) > 0).astype(int)\n",
    "\n",
    "df['decla_group'] = df['decla_group'].map({0: 1, 1: 2})\n",
    "\n",
    "print(df['decla_group'].unique())"
   ]
  },
  {
   "cell_type": "code",
   "execution_count": 1049,
   "id": "4fa12791",
   "metadata": {},
   "outputs": [
    {
     "name": "stdout",
     "output_type": "stream",
     "text": [
      "[ 5.  6.  7.  1.  4.  3.  2. nan]\n"
     ]
    }
   ],
   "source": [
    "# winten2 변수 : 작업 강도가 세다로 파생변수 생성(7점 척도)\n",
    "cols = ['winten2_a','winten2_b']\n",
    "\n",
    "# 둘 중 하나라도 있으면 최대값\n",
    "df['winten2_group'] = df[cols].max(axis=1, skipna=True)\n",
    "\n",
    "print(df['winten2_group'].unique())"
   ]
  },
  {
   "cell_type": "code",
   "execution_count": 1050,
   "id": "226b1ca7",
   "metadata": {},
   "outputs": [
    {
     "name": "stdout",
     "output_type": "stream",
     "text": [
      "[2 1]\n"
     ]
    }
   ],
   "source": [
    "# winten3 변수 : 작업선택의 가능성 유/무로 파생변수 생성\n",
    "cols = ['winten3_c','winten3_d', 'winten3_a', 'winten3_b', 'winten3_e']\n",
    "\n",
    "# 하나라도 1이 있으면 1, 아니면 0\n",
    "df['winten3_group'] = (df[cols].sum(axis=1) > 0).astype(int)\n",
    "\n",
    "df['winten3_group'] = df['winten3_group'].map({0: 1, 1: 2})\n",
    "\n",
    "print(df['winten3_group'].unique())"
   ]
  },
  {
   "cell_type": "code",
   "execution_count": 1051,
   "id": "6ecd580f",
   "metadata": {},
   "outputs": [],
   "source": [
    "# 파생변수로 대체된 컬럼 삭제\n",
    "df = df.drop(['disc1','disc2','disc3','disc4','disc5',\n",
    "              'disc6','disc7','disc8','disc9','disc10','disc11','decla_a','decla_b','winten2_a','winten2_b', 'winten3_c','winten3_d', 'winten3_a', 'winten3_b', 'winten3_e'], axis = 1)"
   ]
  },
  {
   "cell_type": "markdown",
   "id": "98c7da79",
   "metadata": {},
   "source": [
    "### 조작적 정의에 사용된 변수 삭제"
   ]
  },
  {
   "cell_type": "code",
   "execution_count": 1052,
   "id": "9a0b73e4",
   "metadata": {},
   "outputs": [],
   "source": [
    "df = df.drop(['weng1','weng2','weng3','wsituation14','wwa2','sleep2','sleep3','weng4','weng5','wsituation1','wstat4','wsituation2','wsituation12', 'wsituation10','wsituation9', 'emp_manaqual_a'], axis = 1)"
   ]
  },
  {
   "cell_type": "markdown",
   "id": "feac6cc2",
   "metadata": {},
   "source": [
    "### 널값 삭제"
   ]
  },
  {
   "cell_type": "code",
   "execution_count": 1053,
   "id": "f65f56f6",
   "metadata": {},
   "outputs": [
    {
     "name": "stdout",
     "output_type": "stream",
     "text": [
      "<class 'pandas.core.frame.DataFrame'>\n",
      "RangeIndex: 14956 entries, 0 to 14955\n",
      "Columns: 171 entries, id to winten3_group\n",
      "dtypes: category(1), float64(133), int64(33), object(4)\n",
      "memory usage: 19.4+ MB\n"
     ]
    }
   ],
   "source": [
    "df.info()"
   ]
  },
  {
   "cell_type": "code",
   "execution_count": 1054,
   "id": "18839dde",
   "metadata": {},
   "outputs": [],
   "source": [
    "df_new = df.dropna()"
   ]
  },
  {
   "cell_type": "code",
   "execution_count": 1055,
   "id": "c5d6d46c",
   "metadata": {},
   "outputs": [
    {
     "data": {
      "text/html": [
       "<div>\n",
       "<style scoped>\n",
       "    .dataframe tbody tr th:only-of-type {\n",
       "        vertical-align: middle;\n",
       "    }\n",
       "\n",
       "    .dataframe tbody tr th {\n",
       "        vertical-align: top;\n",
       "    }\n",
       "\n",
       "    .dataframe thead th {\n",
       "        text-align: right;\n",
       "    }\n",
       "</style>\n",
       "<table border=\"1\" class=\"dataframe\">\n",
       "  <thead>\n",
       "    <tr style=\"text-align: right;\">\n",
       "      <th></th>\n",
       "      <th>id</th>\n",
       "      <th>burnout60</th>\n",
       "      <th>area</th>\n",
       "      <th>gender</th>\n",
       "      <th>wtime_length5</th>\n",
       "      <th>age_group</th>\n",
       "      <th>emp_period_group</th>\n",
       "      <th>wtime_group</th>\n",
       "      <th>compsize_group</th>\n",
       "      <th>woutside_group</th>\n",
       "      <th>...</th>\n",
       "      <th>edu</th>\n",
       "      <th>marital</th>\n",
       "      <th>children</th>\n",
       "      <th>panel_survey</th>\n",
       "      <th>heal_abs1_group</th>\n",
       "      <th>ctime_group</th>\n",
       "      <th>disc_group</th>\n",
       "      <th>decla_group</th>\n",
       "      <th>winten2_group</th>\n",
       "      <th>winten3_group</th>\n",
       "    </tr>\n",
       "  </thead>\n",
       "  <tbody>\n",
       "    <tr>\n",
       "      <th>0</th>\n",
       "      <td>1000042_1</td>\n",
       "      <td>lv1</td>\n",
       "      <td>1</td>\n",
       "      <td>1</td>\n",
       "      <td>2</td>\n",
       "      <td>4</td>\n",
       "      <td>5</td>\n",
       "      <td>2</td>\n",
       "      <td>4</td>\n",
       "      <td>0</td>\n",
       "      <td>...</td>\n",
       "      <td>5.0</td>\n",
       "      <td>1.0</td>\n",
       "      <td>1.0</td>\n",
       "      <td>2</td>\n",
       "      <td>1</td>\n",
       "      <td>1</td>\n",
       "      <td>2</td>\n",
       "      <td>2</td>\n",
       "      <td>5.0</td>\n",
       "      <td>2</td>\n",
       "    </tr>\n",
       "    <tr>\n",
       "      <th>1</th>\n",
       "      <td>1000051_1</td>\n",
       "      <td>lv2</td>\n",
       "      <td>1</td>\n",
       "      <td>1</td>\n",
       "      <td>2</td>\n",
       "      <td>3</td>\n",
       "      <td>2</td>\n",
       "      <td>2</td>\n",
       "      <td>11</td>\n",
       "      <td>0</td>\n",
       "      <td>...</td>\n",
       "      <td>6.0</td>\n",
       "      <td>2.0</td>\n",
       "      <td>2.0</td>\n",
       "      <td>2</td>\n",
       "      <td>1</td>\n",
       "      <td>1</td>\n",
       "      <td>2</td>\n",
       "      <td>2</td>\n",
       "      <td>6.0</td>\n",
       "      <td>2</td>\n",
       "    </tr>\n",
       "    <tr>\n",
       "      <th>2</th>\n",
       "      <td>1000056_1</td>\n",
       "      <td>lv1</td>\n",
       "      <td>1</td>\n",
       "      <td>1</td>\n",
       "      <td>2</td>\n",
       "      <td>3</td>\n",
       "      <td>2</td>\n",
       "      <td>2</td>\n",
       "      <td>1</td>\n",
       "      <td>0</td>\n",
       "      <td>...</td>\n",
       "      <td>5.0</td>\n",
       "      <td>2.0</td>\n",
       "      <td>2.0</td>\n",
       "      <td>2</td>\n",
       "      <td>1</td>\n",
       "      <td>1</td>\n",
       "      <td>2</td>\n",
       "      <td>2</td>\n",
       "      <td>5.0</td>\n",
       "      <td>2</td>\n",
       "    </tr>\n",
       "    <tr>\n",
       "      <th>3</th>\n",
       "      <td>1000069_1</td>\n",
       "      <td>lv1</td>\n",
       "      <td>1</td>\n",
       "      <td>1</td>\n",
       "      <td>2</td>\n",
       "      <td>3</td>\n",
       "      <td>2</td>\n",
       "      <td>2</td>\n",
       "      <td>10</td>\n",
       "      <td>0</td>\n",
       "      <td>...</td>\n",
       "      <td>6.0</td>\n",
       "      <td>1.0</td>\n",
       "      <td>1.0</td>\n",
       "      <td>2</td>\n",
       "      <td>1</td>\n",
       "      <td>2</td>\n",
       "      <td>2</td>\n",
       "      <td>2</td>\n",
       "      <td>7.0</td>\n",
       "      <td>2</td>\n",
       "    </tr>\n",
       "    <tr>\n",
       "      <th>5</th>\n",
       "      <td>1000077_1</td>\n",
       "      <td>lv1</td>\n",
       "      <td>1</td>\n",
       "      <td>1</td>\n",
       "      <td>2</td>\n",
       "      <td>3</td>\n",
       "      <td>2</td>\n",
       "      <td>2</td>\n",
       "      <td>10</td>\n",
       "      <td>0</td>\n",
       "      <td>...</td>\n",
       "      <td>6.0</td>\n",
       "      <td>1.0</td>\n",
       "      <td>2.0</td>\n",
       "      <td>2</td>\n",
       "      <td>1</td>\n",
       "      <td>1</td>\n",
       "      <td>2</td>\n",
       "      <td>2</td>\n",
       "      <td>6.0</td>\n",
       "      <td>2</td>\n",
       "    </tr>\n",
       "    <tr>\n",
       "      <th>...</th>\n",
       "      <td>...</td>\n",
       "      <td>...</td>\n",
       "      <td>...</td>\n",
       "      <td>...</td>\n",
       "      <td>...</td>\n",
       "      <td>...</td>\n",
       "      <td>...</td>\n",
       "      <td>...</td>\n",
       "      <td>...</td>\n",
       "      <td>...</td>\n",
       "      <td>...</td>\n",
       "      <td>...</td>\n",
       "      <td>...</td>\n",
       "      <td>...</td>\n",
       "      <td>...</td>\n",
       "      <td>...</td>\n",
       "      <td>...</td>\n",
       "      <td>...</td>\n",
       "      <td>...</td>\n",
       "      <td>...</td>\n",
       "      <td>...</td>\n",
       "    </tr>\n",
       "    <tr>\n",
       "      <th>14949</th>\n",
       "      <td>2009922_1</td>\n",
       "      <td>lv1</td>\n",
       "      <td>13</td>\n",
       "      <td>1</td>\n",
       "      <td>1</td>\n",
       "      <td>3</td>\n",
       "      <td>5</td>\n",
       "      <td>2</td>\n",
       "      <td>12</td>\n",
       "      <td>1</td>\n",
       "      <td>...</td>\n",
       "      <td>6.0</td>\n",
       "      <td>2.0</td>\n",
       "      <td>2.0</td>\n",
       "      <td>2</td>\n",
       "      <td>1</td>\n",
       "      <td>1</td>\n",
       "      <td>2</td>\n",
       "      <td>2</td>\n",
       "      <td>4.0</td>\n",
       "      <td>2</td>\n",
       "    </tr>\n",
       "    <tr>\n",
       "      <th>14952</th>\n",
       "      <td>2010133_1</td>\n",
       "      <td>lv2</td>\n",
       "      <td>7</td>\n",
       "      <td>2</td>\n",
       "      <td>2</td>\n",
       "      <td>4</td>\n",
       "      <td>3</td>\n",
       "      <td>2</td>\n",
       "      <td>4</td>\n",
       "      <td>0</td>\n",
       "      <td>...</td>\n",
       "      <td>5.0</td>\n",
       "      <td>2.0</td>\n",
       "      <td>2.0</td>\n",
       "      <td>2</td>\n",
       "      <td>1</td>\n",
       "      <td>1</td>\n",
       "      <td>2</td>\n",
       "      <td>2</td>\n",
       "      <td>4.0</td>\n",
       "      <td>2</td>\n",
       "    </tr>\n",
       "    <tr>\n",
       "      <th>14953</th>\n",
       "      <td>2010134_2</td>\n",
       "      <td>lv1</td>\n",
       "      <td>7</td>\n",
       "      <td>2</td>\n",
       "      <td>2</td>\n",
       "      <td>3</td>\n",
       "      <td>4</td>\n",
       "      <td>2</td>\n",
       "      <td>4</td>\n",
       "      <td>0</td>\n",
       "      <td>...</td>\n",
       "      <td>6.0</td>\n",
       "      <td>2.0</td>\n",
       "      <td>2.0</td>\n",
       "      <td>2</td>\n",
       "      <td>1</td>\n",
       "      <td>1</td>\n",
       "      <td>2</td>\n",
       "      <td>2</td>\n",
       "      <td>5.0</td>\n",
       "      <td>2</td>\n",
       "    </tr>\n",
       "    <tr>\n",
       "      <th>14954</th>\n",
       "      <td>2010137_1</td>\n",
       "      <td>lv1</td>\n",
       "      <td>7</td>\n",
       "      <td>1</td>\n",
       "      <td>2</td>\n",
       "      <td>5</td>\n",
       "      <td>4</td>\n",
       "      <td>2</td>\n",
       "      <td>4</td>\n",
       "      <td>0</td>\n",
       "      <td>...</td>\n",
       "      <td>6.0</td>\n",
       "      <td>1.0</td>\n",
       "      <td>1.0</td>\n",
       "      <td>2</td>\n",
       "      <td>1</td>\n",
       "      <td>1</td>\n",
       "      <td>2</td>\n",
       "      <td>2</td>\n",
       "      <td>5.0</td>\n",
       "      <td>2</td>\n",
       "    </tr>\n",
       "    <tr>\n",
       "      <th>14955</th>\n",
       "      <td>2010137_2</td>\n",
       "      <td>lv1</td>\n",
       "      <td>7</td>\n",
       "      <td>2</td>\n",
       "      <td>2</td>\n",
       "      <td>2</td>\n",
       "      <td>3</td>\n",
       "      <td>2</td>\n",
       "      <td>4</td>\n",
       "      <td>0</td>\n",
       "      <td>...</td>\n",
       "      <td>6.0</td>\n",
       "      <td>2.0</td>\n",
       "      <td>2.0</td>\n",
       "      <td>2</td>\n",
       "      <td>1</td>\n",
       "      <td>2</td>\n",
       "      <td>2</td>\n",
       "      <td>2</td>\n",
       "      <td>5.0</td>\n",
       "      <td>2</td>\n",
       "    </tr>\n",
       "  </tbody>\n",
       "</table>\n",
       "<p>11243 rows × 171 columns</p>\n",
       "</div>"
      ],
      "text/plain": [
       "              id burnout60  area  gender  wtime_length5  age_group  \\\n",
       "0      1000042_1       lv1     1       1              2          4   \n",
       "1      1000051_1       lv2     1       1              2          3   \n",
       "2      1000056_1       lv1     1       1              2          3   \n",
       "3      1000069_1       lv1     1       1              2          3   \n",
       "5      1000077_1       lv1     1       1              2          3   \n",
       "...          ...       ...   ...     ...            ...        ...   \n",
       "14949  2009922_1       lv1    13       1              1          3   \n",
       "14952  2010133_1       lv2     7       2              2          4   \n",
       "14953  2010134_2       lv1     7       2              2          3   \n",
       "14954  2010137_1       lv1     7       1              2          5   \n",
       "14955  2010137_2       lv1     7       2              2          2   \n",
       "\n",
       "       emp_period_group  wtime_group  compsize_group  woutside_group  ...  \\\n",
       "0                     5            2               4               0  ...   \n",
       "1                     2            2              11               0  ...   \n",
       "2                     2            2               1               0  ...   \n",
       "3                     2            2              10               0  ...   \n",
       "5                     2            2              10               0  ...   \n",
       "...                 ...          ...             ...             ...  ...   \n",
       "14949                 5            2              12               1  ...   \n",
       "14952                 3            2               4               0  ...   \n",
       "14953                 4            2               4               0  ...   \n",
       "14954                 4            2               4               0  ...   \n",
       "14955                 3            2               4               0  ...   \n",
       "\n",
       "       edu  marital  children  panel_survey  heal_abs1_group  ctime_group  \\\n",
       "0      5.0      1.0       1.0             2                1            1   \n",
       "1      6.0      2.0       2.0             2                1            1   \n",
       "2      5.0      2.0       2.0             2                1            1   \n",
       "3      6.0      1.0       1.0             2                1            2   \n",
       "5      6.0      1.0       2.0             2                1            1   \n",
       "...    ...      ...       ...           ...              ...          ...   \n",
       "14949  6.0      2.0       2.0             2                1            1   \n",
       "14952  5.0      2.0       2.0             2                1            1   \n",
       "14953  6.0      2.0       2.0             2                1            1   \n",
       "14954  6.0      1.0       1.0             2                1            1   \n",
       "14955  6.0      2.0       2.0             2                1            2   \n",
       "\n",
       "       disc_group  decla_group  winten2_group  winten3_group  \n",
       "0               2            2            5.0              2  \n",
       "1               2            2            6.0              2  \n",
       "2               2            2            5.0              2  \n",
       "3               2            2            7.0              2  \n",
       "5               2            2            6.0              2  \n",
       "...           ...          ...            ...            ...  \n",
       "14949           2            2            4.0              2  \n",
       "14952           2            2            4.0              2  \n",
       "14953           2            2            5.0              2  \n",
       "14954           2            2            5.0              2  \n",
       "14955           2            2            5.0              2  \n",
       "\n",
       "[11243 rows x 171 columns]"
      ]
     },
     "execution_count": 1055,
     "metadata": {},
     "output_type": "execute_result"
    }
   ],
   "source": [
    "df_new"
   ]
  },
  {
   "cell_type": "markdown",
   "id": "06bdcb52",
   "metadata": {},
   "source": [
    "### AutoML"
   ]
  },
  {
   "cell_type": "code",
   "execution_count": 1056,
   "id": "c4043cf3",
   "metadata": {},
   "outputs": [
    {
     "data": {
      "text/plain": [
       "array(['lv1', 'lv2', 'lv3'], dtype=object)"
      ]
     },
     "execution_count": 1056,
     "metadata": {},
     "output_type": "execute_result"
    }
   ],
   "source": [
    "df_new['burnout60'].unique()"
   ]
  },
  {
   "cell_type": "code",
   "execution_count": 1057,
   "id": "5724f1e1",
   "metadata": {},
   "outputs": [
    {
     "data": {
      "text/plain": [
       "array([1, 2, 3], dtype=int64)"
      ]
     },
     "execution_count": 1057,
     "metadata": {},
     "output_type": "execute_result"
    }
   ],
   "source": [
    "# 타겟 클래스번호 전처리\n",
    "df_new['burnout60'] = df_new['burnout60'].replace(\"lv1\", 1)\n",
    "df_new['burnout60'] = df_new['burnout60'].replace(\"lv2\", 2)\n",
    "df_new['burnout60'] = df_new['burnout60'].replace(\"lv3\", 3)\n",
    "df_new['burnout60'].unique()"
   ]
  },
  {
   "cell_type": "code",
   "execution_count": 1058,
   "id": "385ad3b6",
   "metadata": {},
   "outputs": [
    {
     "name": "stdout",
     "output_type": "stream",
     "text": [
      "0        1\n",
      "1        2\n",
      "2        1\n",
      "3        1\n",
      "5        1\n",
      "        ..\n",
      "14949    1\n",
      "14952    2\n",
      "14953    1\n",
      "14954    1\n",
      "14955    1\n",
      "Name: burnout60, Length: 11243, dtype: category\n",
      "Categories (3, int64): [1, 2, 3]\n"
     ]
    }
   ],
   "source": [
    "df_new['burnout60'] = df_new['burnout60'].astype('category')\n",
    "print(df_new[\"burnout60\"])"
   ]
  },
  {
   "cell_type": "code",
   "execution_count": 1059,
   "id": "5763ed07",
   "metadata": {},
   "outputs": [],
   "source": [
    "# categories.values"
   ]
  },
  {
   "cell_type": "code",
   "execution_count": 1060,
   "id": "7f2913fa",
   "metadata": {},
   "outputs": [],
   "source": [
    "categories = df_new.drop(columns=['id', 'burnout60']).columns"
   ]
  },
  {
   "cell_type": "code",
   "execution_count": 1061,
   "id": "46d25c6e",
   "metadata": {},
   "outputs": [],
   "source": [
    "categories = categories.tolist()"
   ]
  },
  {
   "cell_type": "code",
   "execution_count": 1062,
   "id": "818bfb7e",
   "metadata": {},
   "outputs": [
    {
     "data": {
      "text/html": [
       "<style type=\"text/css\">\n",
       "#T_c3a89_row9_col1 {\n",
       "  background-color: lightgreen;\n",
       "}\n",
       "</style>\n",
       "<table id=\"T_c3a89\">\n",
       "  <thead>\n",
       "    <tr>\n",
       "      <th class=\"blank level0\" >&nbsp;</th>\n",
       "      <th id=\"T_c3a89_level0_col0\" class=\"col_heading level0 col0\" >Description</th>\n",
       "      <th id=\"T_c3a89_level0_col1\" class=\"col_heading level0 col1\" >Value</th>\n",
       "    </tr>\n",
       "  </thead>\n",
       "  <tbody>\n",
       "    <tr>\n",
       "      <th id=\"T_c3a89_level0_row0\" class=\"row_heading level0 row0\" >0</th>\n",
       "      <td id=\"T_c3a89_row0_col0\" class=\"data row0 col0\" >Session id</td>\n",
       "      <td id=\"T_c3a89_row0_col1\" class=\"data row0 col1\" >1234</td>\n",
       "    </tr>\n",
       "    <tr>\n",
       "      <th id=\"T_c3a89_level0_row1\" class=\"row_heading level0 row1\" >1</th>\n",
       "      <td id=\"T_c3a89_row1_col0\" class=\"data row1 col0\" >Target</td>\n",
       "      <td id=\"T_c3a89_row1_col1\" class=\"data row1 col1\" >burnout60</td>\n",
       "    </tr>\n",
       "    <tr>\n",
       "      <th id=\"T_c3a89_level0_row2\" class=\"row_heading level0 row2\" >2</th>\n",
       "      <td id=\"T_c3a89_row2_col0\" class=\"data row2 col0\" >Target type</td>\n",
       "      <td id=\"T_c3a89_row2_col1\" class=\"data row2 col1\" >Multiclass</td>\n",
       "    </tr>\n",
       "    <tr>\n",
       "      <th id=\"T_c3a89_level0_row3\" class=\"row_heading level0 row3\" >3</th>\n",
       "      <td id=\"T_c3a89_row3_col0\" class=\"data row3 col0\" >Target mapping</td>\n",
       "      <td id=\"T_c3a89_row3_col1\" class=\"data row3 col1\" >1: 0, 2: 1, 3: 2</td>\n",
       "    </tr>\n",
       "    <tr>\n",
       "      <th id=\"T_c3a89_level0_row4\" class=\"row_heading level0 row4\" >4</th>\n",
       "      <td id=\"T_c3a89_row4_col0\" class=\"data row4 col0\" >Original data shape</td>\n",
       "      <td id=\"T_c3a89_row4_col1\" class=\"data row4 col1\" >(11243, 171)</td>\n",
       "    </tr>\n",
       "    <tr>\n",
       "      <th id=\"T_c3a89_level0_row5\" class=\"row_heading level0 row5\" >5</th>\n",
       "      <td id=\"T_c3a89_row5_col0\" class=\"data row5 col0\" >Transformed data shape</td>\n",
       "      <td id=\"T_c3a89_row5_col1\" class=\"data row5 col1\" >(11243, 549)</td>\n",
       "    </tr>\n",
       "    <tr>\n",
       "      <th id=\"T_c3a89_level0_row6\" class=\"row_heading level0 row6\" >6</th>\n",
       "      <td id=\"T_c3a89_row6_col0\" class=\"data row6 col0\" >Transformed train set shape</td>\n",
       "      <td id=\"T_c3a89_row6_col1\" class=\"data row6 col1\" >(8994, 549)</td>\n",
       "    </tr>\n",
       "    <tr>\n",
       "      <th id=\"T_c3a89_level0_row7\" class=\"row_heading level0 row7\" >7</th>\n",
       "      <td id=\"T_c3a89_row7_col0\" class=\"data row7 col0\" >Transformed test set shape</td>\n",
       "      <td id=\"T_c3a89_row7_col1\" class=\"data row7 col1\" >(2249, 549)</td>\n",
       "    </tr>\n",
       "    <tr>\n",
       "      <th id=\"T_c3a89_level0_row8\" class=\"row_heading level0 row8\" >8</th>\n",
       "      <td id=\"T_c3a89_row8_col0\" class=\"data row8 col0\" >Categorical features</td>\n",
       "      <td id=\"T_c3a89_row8_col1\" class=\"data row8 col1\" >169</td>\n",
       "    </tr>\n",
       "    <tr>\n",
       "      <th id=\"T_c3a89_level0_row9\" class=\"row_heading level0 row9\" >9</th>\n",
       "      <td id=\"T_c3a89_row9_col0\" class=\"data row9 col0\" >Preprocess</td>\n",
       "      <td id=\"T_c3a89_row9_col1\" class=\"data row9 col1\" >True</td>\n",
       "    </tr>\n",
       "    <tr>\n",
       "      <th id=\"T_c3a89_level0_row10\" class=\"row_heading level0 row10\" >10</th>\n",
       "      <td id=\"T_c3a89_row10_col0\" class=\"data row10 col0\" >Imputation type</td>\n",
       "      <td id=\"T_c3a89_row10_col1\" class=\"data row10 col1\" >simple</td>\n",
       "    </tr>\n",
       "    <tr>\n",
       "      <th id=\"T_c3a89_level0_row11\" class=\"row_heading level0 row11\" >11</th>\n",
       "      <td id=\"T_c3a89_row11_col0\" class=\"data row11 col0\" >Numeric imputation</td>\n",
       "      <td id=\"T_c3a89_row11_col1\" class=\"data row11 col1\" >mean</td>\n",
       "    </tr>\n",
       "    <tr>\n",
       "      <th id=\"T_c3a89_level0_row12\" class=\"row_heading level0 row12\" >12</th>\n",
       "      <td id=\"T_c3a89_row12_col0\" class=\"data row12 col0\" >Categorical imputation</td>\n",
       "      <td id=\"T_c3a89_row12_col1\" class=\"data row12 col1\" >mode</td>\n",
       "    </tr>\n",
       "    <tr>\n",
       "      <th id=\"T_c3a89_level0_row13\" class=\"row_heading level0 row13\" >13</th>\n",
       "      <td id=\"T_c3a89_row13_col0\" class=\"data row13 col0\" >Maximum one-hot encoding</td>\n",
       "      <td id=\"T_c3a89_row13_col1\" class=\"data row13 col1\" >25</td>\n",
       "    </tr>\n",
       "    <tr>\n",
       "      <th id=\"T_c3a89_level0_row14\" class=\"row_heading level0 row14\" >14</th>\n",
       "      <td id=\"T_c3a89_row14_col0\" class=\"data row14 col0\" >Encoding method</td>\n",
       "      <td id=\"T_c3a89_row14_col1\" class=\"data row14 col1\" >None</td>\n",
       "    </tr>\n",
       "    <tr>\n",
       "      <th id=\"T_c3a89_level0_row15\" class=\"row_heading level0 row15\" >15</th>\n",
       "      <td id=\"T_c3a89_row15_col0\" class=\"data row15 col0\" >Fold Generator</td>\n",
       "      <td id=\"T_c3a89_row15_col1\" class=\"data row15 col1\" >StratifiedKFold</td>\n",
       "    </tr>\n",
       "    <tr>\n",
       "      <th id=\"T_c3a89_level0_row16\" class=\"row_heading level0 row16\" >16</th>\n",
       "      <td id=\"T_c3a89_row16_col0\" class=\"data row16 col0\" >Fold Number</td>\n",
       "      <td id=\"T_c3a89_row16_col1\" class=\"data row16 col1\" >5</td>\n",
       "    </tr>\n",
       "    <tr>\n",
       "      <th id=\"T_c3a89_level0_row17\" class=\"row_heading level0 row17\" >17</th>\n",
       "      <td id=\"T_c3a89_row17_col0\" class=\"data row17 col0\" >CPU Jobs</td>\n",
       "      <td id=\"T_c3a89_row17_col1\" class=\"data row17 col1\" >-1</td>\n",
       "    </tr>\n",
       "    <tr>\n",
       "      <th id=\"T_c3a89_level0_row18\" class=\"row_heading level0 row18\" >18</th>\n",
       "      <td id=\"T_c3a89_row18_col0\" class=\"data row18 col0\" >Use GPU</td>\n",
       "      <td id=\"T_c3a89_row18_col1\" class=\"data row18 col1\" >False</td>\n",
       "    </tr>\n",
       "    <tr>\n",
       "      <th id=\"T_c3a89_level0_row19\" class=\"row_heading level0 row19\" >19</th>\n",
       "      <td id=\"T_c3a89_row19_col0\" class=\"data row19 col0\" >Log Experiment</td>\n",
       "      <td id=\"T_c3a89_row19_col1\" class=\"data row19 col1\" >False</td>\n",
       "    </tr>\n",
       "    <tr>\n",
       "      <th id=\"T_c3a89_level0_row20\" class=\"row_heading level0 row20\" >20</th>\n",
       "      <td id=\"T_c3a89_row20_col0\" class=\"data row20 col0\" >Experiment Name</td>\n",
       "      <td id=\"T_c3a89_row20_col1\" class=\"data row20 col1\" >clf-default-name</td>\n",
       "    </tr>\n",
       "    <tr>\n",
       "      <th id=\"T_c3a89_level0_row21\" class=\"row_heading level0 row21\" >21</th>\n",
       "      <td id=\"T_c3a89_row21_col0\" class=\"data row21 col0\" >USI</td>\n",
       "      <td id=\"T_c3a89_row21_col1\" class=\"data row21 col1\" >52f6</td>\n",
       "    </tr>\n",
       "  </tbody>\n",
       "</table>\n"
      ],
      "text/plain": [
       "<pandas.io.formats.style.Styler at 0x1868e40ebf0>"
      ]
     },
     "metadata": {},
     "output_type": "display_data"
    }
   ],
   "source": [
    "from pycaret.classification import *\n",
    "from sklearn.preprocessing import *\n",
    "# import imblearn\n",
    "setup_clf = setup(df_new, target = 'burnout60',\n",
    "                  train_size = 0.8,\n",
    "                  # ignore_features = ['pclass', 'adult_male', 'deck', 'embark_town', 'alive'],\n",
    "                  # numeric_features = [],\n",
    "                  categorical_features = categories,\n",
    "                  # encoding_method = None,\n",
    "                #   normalize = True,\n",
    "                #   normalize_method = 'zscore',\n",
    "                  # remove_outliers = True,\n",
    "                #   feature_selection = True,\n",
    "                  # feature_selection_method = 'classic',\n",
    "                  # fix_imbalance = True,\n",
    "                  # fix_imbalance_method = 'SMOTE',\n",
    "                  fold=5,\n",
    "                  n_jobs = - 1,\n",
    "                  session_id = 1234)"
   ]
  },
  {
   "cell_type": "code",
   "execution_count": 1063,
   "id": "20e36947",
   "metadata": {},
   "outputs": [
    {
     "name": "stdout",
     "output_type": "stream",
     "text": [
      "              id  area_15.0  area_9.0  area_1.0  area_2.0  area_5.0  \\\n",
      "13039  1263166_1        1.0       0.0       0.0       0.0       0.0   \n",
      "8216   1146807_1        0.0       1.0       0.0       0.0       0.0   \n",
      "1529   1025402_2        0.0       0.0       1.0       0.0       0.0   \n",
      "1971   1034083_1        0.0       0.0       1.0       0.0       0.0   \n",
      "2748   1046201_1        0.0       0.0       0.0       1.0       0.0   \n",
      "...          ...        ...       ...       ...       ...       ...   \n",
      "12863  1254489_1        0.0       0.0       0.0       0.0       0.0   \n",
      "6917   1125201_1        0.0       0.0       0.0       0.0       0.0   \n",
      "5985   1103941_1        0.0       0.0       0.0       0.0       1.0   \n",
      "12451  1243720_1        0.0       0.0       0.0       0.0       0.0   \n",
      "10791  1192682_1        0.0       0.0       0.0       0.0       0.0   \n",
      "\n",
      "       area_10.0  area_12.0  area_3.0  area_17.0  ...  disc_group  \\\n",
      "13039        0.0        0.0       0.0        0.0  ...         1.0   \n",
      "8216         0.0        0.0       0.0        0.0  ...         1.0   \n",
      "1529         0.0        0.0       0.0        0.0  ...         1.0   \n",
      "1971         0.0        0.0       0.0        0.0  ...         1.0   \n",
      "2748         0.0        0.0       0.0        0.0  ...         1.0   \n",
      "...          ...        ...       ...        ...  ...         ...   \n",
      "12863        0.0        0.0       0.0        0.0  ...         1.0   \n",
      "6917         0.0        0.0       0.0        0.0  ...         1.0   \n",
      "5985         0.0        0.0       0.0        0.0  ...         1.0   \n",
      "12451        0.0        0.0       0.0        0.0  ...         1.0   \n",
      "10791        1.0        0.0       0.0        0.0  ...         1.0   \n",
      "\n",
      "       decla_group_2.0  winten2_group_6.0  winten2_group_4.0  \\\n",
      "13039              1.0                1.0                0.0   \n",
      "8216               1.0                1.0                0.0   \n",
      "1529               1.0                0.0                1.0   \n",
      "1971               1.0                0.0                0.0   \n",
      "2748               1.0                0.0                0.0   \n",
      "...                ...                ...                ...   \n",
      "12863              1.0                1.0                0.0   \n",
      "6917               1.0                0.0                0.0   \n",
      "5985               1.0                0.0                0.0   \n",
      "12451              1.0                1.0                0.0   \n",
      "10791              1.0                0.0                0.0   \n",
      "\n",
      "       winten2_group_3.0  winten2_group_2.0  winten2_group_5.0  \\\n",
      "13039                0.0                0.0                0.0   \n",
      "8216                 0.0                0.0                0.0   \n",
      "1529                 0.0                0.0                0.0   \n",
      "1971                 1.0                0.0                0.0   \n",
      "2748                 0.0                1.0                0.0   \n",
      "...                  ...                ...                ...   \n",
      "12863                0.0                0.0                0.0   \n",
      "6917                 0.0                0.0                0.0   \n",
      "5985                 1.0                0.0                0.0   \n",
      "12451                0.0                0.0                0.0   \n",
      "10791                0.0                0.0                0.0   \n",
      "\n",
      "       winten2_group_7.0  winten2_group_1.0  winten3_group_2.0  \n",
      "13039                0.0                0.0                1.0  \n",
      "8216                 0.0                0.0                1.0  \n",
      "1529                 0.0                0.0                1.0  \n",
      "1971                 0.0                0.0                1.0  \n",
      "2748                 0.0                0.0                1.0  \n",
      "...                  ...                ...                ...  \n",
      "12863                0.0                0.0                1.0  \n",
      "6917                 1.0                0.0                1.0  \n",
      "5985                 0.0                0.0                1.0  \n",
      "12451                0.0                0.0                1.0  \n",
      "10791                1.0                0.0                1.0  \n",
      "\n",
      "[8994 rows x 548 columns]\n"
     ]
    }
   ],
   "source": [
    "X_train_transformed = get_config('X_train_transformed')\n",
    "print(X_train_transformed)"
   ]
  },
  {
   "cell_type": "code",
   "execution_count": 1064,
   "id": "927b87ae",
   "metadata": {},
   "outputs": [],
   "source": [
    "# best = compare_models(fold=10, sort='AUC')"
   ]
  },
  {
   "cell_type": "markdown",
   "id": "f1f3d89c",
   "metadata": {},
   "source": [
    "### 변수 중요도 확인"
   ]
  },
  {
   "cell_type": "code",
   "execution_count": 1065,
   "id": "042e2a14",
   "metadata": {},
   "outputs": [],
   "source": [
    "# 인구통계 컬럼 삭제\n",
    "df_fe = df_new.drop(['id', 'area', 'gender', 'age_group', 'emp_period_group', 'wtime_group', 'marital', 'children', 'panel_survey', 'edu'], axis = 1)"
   ]
  },
  {
   "cell_type": "code",
   "execution_count": 1066,
   "id": "cb6c57fa",
   "metadata": {},
   "outputs": [
    {
     "name": "stdout",
     "output_type": "stream",
     "text": [
      "<class 'pandas.core.frame.DataFrame'>\n",
      "Index: 11243 entries, 0 to 14955\n",
      "Columns: 161 entries, burnout60 to winten3_group\n",
      "dtypes: category(4), float64(130), int64(27)\n",
      "memory usage: 13.8 MB\n"
     ]
    }
   ],
   "source": [
    "# 데이터 타입 변경\n",
    "df_fe['hazard_erg_a'] = df_fe['hazard_erg_a'].astype('category')\n",
    "df_fe['hazard_erg_b'] = df_fe['hazard_erg_b'].astype('category')\n",
    "df_fe.info()"
   ]
  },
  {
   "cell_type": "code",
   "execution_count": 1067,
   "id": "5d17ad9a",
   "metadata": {},
   "outputs": [],
   "source": [
    "df_fe['burnout60'] = df_fe['burnout60'].astype(int)"
   ]
  },
  {
   "cell_type": "code",
   "execution_count": 1068,
   "id": "9a6ce0ad",
   "metadata": {},
   "outputs": [],
   "source": [
    "df_fe['burnout60'] = df_fe['burnout60'] - 1"
   ]
  },
  {
   "cell_type": "markdown",
   "id": "67c4d151",
   "metadata": {},
   "source": [
    "#### 모델만들기"
   ]
  },
  {
   "cell_type": "code",
   "execution_count": 968,
   "id": "49bde424",
   "metadata": {},
   "outputs": [
    {
     "name": "stdout",
     "output_type": "stream",
     "text": [
      "X 데이터:  (11243, 160)\n",
      "y 데이터:  (11243,)\n"
     ]
    }
   ],
   "source": [
    "# 전체 데이터\n",
    "X = df_fe.drop(['burnout60'], axis = 1)\n",
    "y = df_fe['burnout60']\n",
    "\n",
    "print(\"X 데이터: \", X.shape)\n",
    "print(\"y 데이터: \", y.shape)"
   ]
  },
  {
   "cell_type": "code",
   "execution_count": 969,
   "id": "5341e64f",
   "metadata": {},
   "outputs": [
    {
     "name": "stdout",
     "output_type": "stream",
     "text": [
      "train 데이터:  (7870, 160)\n",
      "test 데이터:  (3373, 160)\n"
     ]
    }
   ],
   "source": [
    "# 데이터 분할 = 훈련 데이터 / 테스트 데이터 = 7:3\n",
    "from sklearn.model_selection import train_test_split\n",
    "\n",
    "X_train, X_test, y_train, y_test = train_test_split(X, y,\n",
    "                                                    test_size = 0.3,\n",
    "                                                    random_state = 42)\n",
    "print(\"train 데이터: \", X_train.shape)\n",
    "print(\"test 데이터: \", X_test.shape)"
   ]
  },
  {
   "cell_type": "code",
   "execution_count": 970,
   "id": "dc170804",
   "metadata": {},
   "outputs": [
    {
     "name": "stdout",
     "output_type": "stream",
     "text": [
      "{'fit_time': array([2.76860714, 2.76860714, 2.78730702, 3.09442019, 2.74957132,\n",
      "       2.79938698, 2.82864857, 2.82093835, 2.85179234, 2.84778595]), 'score_time': array([0.0166955 , 0.0166955 , 0.01872277, 0.00560236, 0.01444817,\n",
      "       0.00863743, 0.01062703, 0.00860262, 0.00600839, 0.00600934]), 'test_score': array([0.87928844, 0.85895807, 0.88437103, 0.86658196, 0.87801779,\n",
      "       0.87547649, 0.88437103, 0.87928844, 0.87801779, 0.8678526 ]), 'train_score': array([0.98898772, 0.9908231 , 0.99124665, 0.99110546, 0.9891289 ,\n",
      "       0.99124665, 0.99152901, 0.99039955, 0.99237611, 0.99096428])}\n"
     ]
    }
   ],
   "source": [
    "from sklearn.model_selection import cross_validate\n",
    "from lightgbm import LGBMClassifier\n",
    "lgb = LGBMClassifier(random_state=42)\n",
    "scores = cross_validate(lgb, X_train, y_train, return_train_score=True,\n",
    "                        n_jobs = -1, cv = 10)\n",
    "print(scores)"
   ]
  },
  {
   "cell_type": "code",
   "execution_count": 971,
   "id": "2aa031c2",
   "metadata": {},
   "outputs": [
    {
     "name": "stdout",
     "output_type": "stream",
     "text": [
      "0.9907807426231822 0.8752223634053367\n"
     ]
    }
   ],
   "source": [
    "# 검증점수, 테스트점수 확인\n",
    "print(np.mean(scores['train_score']), np.mean(scores['test_score']))"
   ]
  },
  {
   "cell_type": "markdown",
   "id": "ffe17942",
   "metadata": {},
   "source": [
    "#### 변수중요도 시각화"
   ]
  },
  {
   "cell_type": "code",
   "execution_count": 972,
   "id": "2d727d9a",
   "metadata": {},
   "outputs": [
    {
     "name": "stdout",
     "output_type": "stream",
     "text": [
      "            feature   importance\n",
      "63     wsituation11  2473.139127\n",
      "66      wsituation8  1445.333536\n",
      "34   emp_comp_ass_a  1340.415325\n",
      "60      wsituation3  1252.623858\n",
      "67     wsituation13  1051.247331\n",
      "145            who1   971.564894\n",
      "71           wstat5   904.593138\n",
      "147            who3   884.763193\n",
      "65      wsituation7   870.154176\n",
      "144          sleep1   820.281165\n",
      "69           wstat2   740.227981\n",
      "124            wwa3   739.163179\n",
      "62      wsituation5   682.372214\n",
      "61      wsituation4   682.162612\n",
      "30   emp_manaqual_b   594.122489\n",
      "123            wwa1   502.750617\n",
      "70           wstat3   495.472940\n",
      "33   emp_manaqual_e   471.381397\n",
      "146            who2   465.825713\n",
      "68           wstat1   444.806320\n"
     ]
    }
   ],
   "source": [
    "# 변수중요도 확인\n",
    "\n",
    "lgb.fit(X_train, y_train)\n",
    "importances = lgb.booster_.feature_importance(importance_type='gain')\n",
    "fi = pd.DataFrame({'feature': X_train.columns, 'importance': importances})\n",
    "fi = fi.sort_values(by='importance', ascending=False)\n",
    "print(fi.head(20))"
   ]
  },
  {
   "cell_type": "code",
   "execution_count": 973,
   "id": "758c9b46",
   "metadata": {},
   "outputs": [
    {
     "data": {
      "text/html": [
       "<div>\n",
       "<style scoped>\n",
       "    .dataframe tbody tr th:only-of-type {\n",
       "        vertical-align: middle;\n",
       "    }\n",
       "\n",
       "    .dataframe tbody tr th {\n",
       "        vertical-align: top;\n",
       "    }\n",
       "\n",
       "    .dataframe thead th {\n",
       "        text-align: right;\n",
       "    }\n",
       "</style>\n",
       "<table border=\"1\" class=\"dataframe\">\n",
       "  <thead>\n",
       "    <tr style=\"text-align: right;\">\n",
       "      <th></th>\n",
       "      <th>feature</th>\n",
       "      <th>importance</th>\n",
       "      <th>importance_pct</th>\n",
       "    </tr>\n",
       "  </thead>\n",
       "  <tbody>\n",
       "    <tr>\n",
       "      <th>63</th>\n",
       "      <td>wsituation11</td>\n",
       "      <td>2473.139127</td>\n",
       "      <td>7.573360</td>\n",
       "    </tr>\n",
       "    <tr>\n",
       "      <th>66</th>\n",
       "      <td>wsituation8</td>\n",
       "      <td>1445.333536</td>\n",
       "      <td>4.425967</td>\n",
       "    </tr>\n",
       "    <tr>\n",
       "      <th>34</th>\n",
       "      <td>emp_comp_ass_a</td>\n",
       "      <td>1340.415325</td>\n",
       "      <td>4.104681</td>\n",
       "    </tr>\n",
       "    <tr>\n",
       "      <th>60</th>\n",
       "      <td>wsituation3</td>\n",
       "      <td>1252.623858</td>\n",
       "      <td>3.835842</td>\n",
       "    </tr>\n",
       "    <tr>\n",
       "      <th>67</th>\n",
       "      <td>wsituation13</td>\n",
       "      <td>1051.247331</td>\n",
       "      <td>3.219178</td>\n",
       "    </tr>\n",
       "    <tr>\n",
       "      <th>145</th>\n",
       "      <td>who1</td>\n",
       "      <td>971.564894</td>\n",
       "      <td>2.975171</td>\n",
       "    </tr>\n",
       "    <tr>\n",
       "      <th>71</th>\n",
       "      <td>wstat5</td>\n",
       "      <td>904.593138</td>\n",
       "      <td>2.770087</td>\n",
       "    </tr>\n",
       "    <tr>\n",
       "      <th>147</th>\n",
       "      <td>who3</td>\n",
       "      <td>884.763193</td>\n",
       "      <td>2.709362</td>\n",
       "    </tr>\n",
       "    <tr>\n",
       "      <th>65</th>\n",
       "      <td>wsituation7</td>\n",
       "      <td>870.154176</td>\n",
       "      <td>2.664626</td>\n",
       "    </tr>\n",
       "    <tr>\n",
       "      <th>144</th>\n",
       "      <td>sleep1</td>\n",
       "      <td>820.281165</td>\n",
       "      <td>2.511903</td>\n",
       "    </tr>\n",
       "    <tr>\n",
       "      <th>69</th>\n",
       "      <td>wstat2</td>\n",
       "      <td>740.227981</td>\n",
       "      <td>2.266760</td>\n",
       "    </tr>\n",
       "    <tr>\n",
       "      <th>124</th>\n",
       "      <td>wwa3</td>\n",
       "      <td>739.163179</td>\n",
       "      <td>2.263499</td>\n",
       "    </tr>\n",
       "    <tr>\n",
       "      <th>62</th>\n",
       "      <td>wsituation5</td>\n",
       "      <td>682.372214</td>\n",
       "      <td>2.089591</td>\n",
       "    </tr>\n",
       "    <tr>\n",
       "      <th>61</th>\n",
       "      <td>wsituation4</td>\n",
       "      <td>682.162612</td>\n",
       "      <td>2.088950</td>\n",
       "    </tr>\n",
       "    <tr>\n",
       "      <th>30</th>\n",
       "      <td>emp_manaqual_b</td>\n",
       "      <td>594.122489</td>\n",
       "      <td>1.819349</td>\n",
       "    </tr>\n",
       "    <tr>\n",
       "      <th>123</th>\n",
       "      <td>wwa1</td>\n",
       "      <td>502.750617</td>\n",
       "      <td>1.539546</td>\n",
       "    </tr>\n",
       "    <tr>\n",
       "      <th>70</th>\n",
       "      <td>wstat3</td>\n",
       "      <td>495.472940</td>\n",
       "      <td>1.517260</td>\n",
       "    </tr>\n",
       "    <tr>\n",
       "      <th>33</th>\n",
       "      <td>emp_manaqual_e</td>\n",
       "      <td>471.381397</td>\n",
       "      <td>1.443486</td>\n",
       "    </tr>\n",
       "    <tr>\n",
       "      <th>146</th>\n",
       "      <td>who2</td>\n",
       "      <td>465.825713</td>\n",
       "      <td>1.426473</td>\n",
       "    </tr>\n",
       "    <tr>\n",
       "      <th>68</th>\n",
       "      <td>wstat1</td>\n",
       "      <td>444.806320</td>\n",
       "      <td>1.362106</td>\n",
       "    </tr>\n",
       "  </tbody>\n",
       "</table>\n",
       "</div>"
      ],
      "text/plain": [
       "            feature   importance  importance_pct\n",
       "63     wsituation11  2473.139127        7.573360\n",
       "66      wsituation8  1445.333536        4.425967\n",
       "34   emp_comp_ass_a  1340.415325        4.104681\n",
       "60      wsituation3  1252.623858        3.835842\n",
       "67     wsituation13  1051.247331        3.219178\n",
       "145            who1   971.564894        2.975171\n",
       "71           wstat5   904.593138        2.770087\n",
       "147            who3   884.763193        2.709362\n",
       "65      wsituation7   870.154176        2.664626\n",
       "144          sleep1   820.281165        2.511903\n",
       "69           wstat2   740.227981        2.266760\n",
       "124            wwa3   739.163179        2.263499\n",
       "62      wsituation5   682.372214        2.089591\n",
       "61      wsituation4   682.162612        2.088950\n",
       "30   emp_manaqual_b   594.122489        1.819349\n",
       "123            wwa1   502.750617        1.539546\n",
       "70           wstat3   495.472940        1.517260\n",
       "33   emp_manaqual_e   471.381397        1.443486\n",
       "146            who2   465.825713        1.426473\n",
       "68           wstat1   444.806320        1.362106"
      ]
     },
     "execution_count": 973,
     "metadata": {},
     "output_type": "execute_result"
    }
   ],
   "source": [
    "# 변수중요도 비율로 전환\n",
    "fi['importance_pct'] = fi['importance'] / fi['importance'].sum() * 100\n",
    "fi.head(20)"
   ]
  },
  {
   "cell_type": "code",
   "execution_count": 974,
   "id": "de1136e0",
   "metadata": {},
   "outputs": [
    {
     "data": {
      "image/png": "[encoded data removed]",
      "text/plain": [
       "<Figure size 800x600 with 1 Axes>"
      ]
     },
     "metadata": {},
     "output_type": "display_data"
    }
   ],
   "source": [
    "import matplotlib.pyplot as plt\n",
    "import seaborn as sns\n",
    "\n",
    "top20 = fi.head(20).copy()\n",
    "\n",
    "plt.figure(figsize=(8,6))\n",
    "sns.barplot(\n",
    "    data=top20,\n",
    "    x='importance_pct', y='feature', palette='viridis'\n",
    ")\n",
    "plt.title(\"Top 20 Feature Importance (LightGBM - gain, % )\")\n",
    "plt.xlabel(\"(%)\")\n",
    "plt.show()"
   ]
  },
  {
   "cell_type": "markdown",
   "id": "f67a8a26",
   "metadata": {},
   "source": [
    "### 다시 모델"
   ]
  },
  {
   "cell_type": "code",
   "execution_count": 1069,
   "id": "40f7028a",
   "metadata": {},
   "outputs": [],
   "source": [
    "# 학습(훈련) 데이터 - 타깃이 있음\n",
    "train_X = df_fe[~df_fe[\"burnout60\"].isnull()].drop(columns=\"burnout60\").reset_index(drop=True)\n",
    "train_Y = df_fe[~df_fe[\"burnout60\"].isnull()]['burnout60'].reset_index(drop=True)\n",
    "\n",
    "# 테스트 데이터 - 타깃이 없음\n",
    "test_X = df_fe[df_fe[\"burnout60\"].isnull()].drop(columns=\"burnout60\").reset_index(drop=True)"
   ]
  },
  {
   "cell_type": "code",
   "execution_count": 1070,
   "id": "da408180",
   "metadata": {},
   "outputs": [
    {
     "name": "stdout",
     "output_type": "stream",
     "text": [
      "wtime_length5           int64\n",
      "compsize_group          int64\n",
      "woutside_group          int64\n",
      "compsize_group_a        int64\n",
      "wday_week_group_a       int64\n",
      "                       ...   \n",
      "ctime_group          category\n",
      "disc_group              int64\n",
      "decla_group             int64\n",
      "winten2_group         float64\n",
      "winten3_group           int64\n",
      "Length: 160, dtype: object\n"
     ]
    }
   ],
   "source": [
    "print(train_X.dtypes)"
   ]
  },
  {
   "cell_type": "code",
   "execution_count": 1071,
   "id": "983f69ad",
   "metadata": {},
   "outputs": [
    {
     "name": "stdout",
     "output_type": "stream",
     "text": [
      "train 데이터:  (8994, 160)\n",
      "val 데이터:  (2249, 160)\n"
     ]
    }
   ],
   "source": [
    "# 검증데이터 나누기\n",
    "from sklearn.model_selection import train_test_split\n",
    "X_train, X_val, y_train, y_val = train_test_split(train_X, train_Y,\n",
    "                                                  test_size=0.2,\n",
    "                                                  stratify = train_Y,\n",
    "                                                  random_state=1234)\n",
    "print(\"train 데이터: \", X_train.shape)\n",
    "print(\"val 데이터: \", X_val.shape)"
   ]
  },
  {
   "cell_type": "code",
   "execution_count": 1072,
   "id": "601a284d",
   "metadata": {},
   "outputs": [
    {
     "name": "stdout",
     "output_type": "stream",
     "text": [
      "검증 정확도: 0.8773\n",
      "검증 로그손실: 0.3078\n"
     ]
    }
   ],
   "source": [
    "import lightgbm as lgb\n",
    "from sklearn.metrics import log_loss, accuracy_score\n",
    "\n",
    "model = lgb.LGBMClassifier()\n",
    "model.fit(X_train, y_train)\n",
    "\n",
    "y_pred = model.predict(X_val)\n",
    "y_proba = model.predict_proba(X_val)\n",
    "\n",
    "acc = accuracy_score(y_val, y_pred)\n",
    "loss = log_loss(y_val, y_proba)\n",
    "\n",
    "print(f\"검증 정확도: {acc:.4f}\")\n",
    "print(f\"검증 로그손실: {loss:.4f}\")"
   ]
  },
  {
   "cell_type": "code",
   "execution_count": 1073,
   "id": "c3d9c20d",
   "metadata": {},
   "outputs": [],
   "source": [
    "# 하이퍼파라미터 설정, 현재는 기본 설정\n",
    "params = {\n",
    "    \"objective\":\"multiclass\", # binary: 이진분류, regression: 회귀, multiclass: 다중분류\n",
    "    \"num_class\": 3,\n",
    "    \"random_seed\":1234,\n",
    "    'verbosity': -1, # 오류 등 메시지 출력 없이 실행\n",
    "}"
   ]
  },
  {
   "cell_type": "code",
   "execution_count": 1074,
   "id": "401d0063",
   "metadata": {},
   "outputs": [
    {
     "name": "stdout",
     "output_type": "stream",
     "text": [
      "[1]\tvalid_0's multi_logloss: 0.431504\n",
      "Training until validation scores don't improve for 5 rounds\n",
      "[2]\tvalid_0's multi_logloss: 0.412225\n",
      "[3]\tvalid_0's multi_logloss: 0.39904\n",
      "[4]\tvalid_0's multi_logloss: 0.387671\n",
      "[5]\tvalid_0's multi_logloss: 0.37929\n",
      "[6]\tvalid_0's multi_logloss: 0.371531\n",
      "[7]\tvalid_0's multi_logloss: 0.36435\n",
      "[8]\tvalid_0's multi_logloss: 0.358539\n",
      "[9]\tvalid_0's multi_logloss: 0.35373\n",
      "[10]\tvalid_0's multi_logloss: 0.34955\n",
      "[11]\tvalid_0's multi_logloss: 0.345251\n",
      "[12]\tvalid_0's multi_logloss: 0.341656\n",
      "[13]\tvalid_0's multi_logloss: 0.33817\n",
      "[14]\tvalid_0's multi_logloss: 0.335129\n",
      "[15]\tvalid_0's multi_logloss: 0.332032\n",
      "[16]\tvalid_0's multi_logloss: 0.32995\n",
      "[17]\tvalid_0's multi_logloss: 0.326899\n",
      "[18]\tvalid_0's multi_logloss: 0.325474\n",
      "[19]\tvalid_0's multi_logloss: 0.323679\n",
      "[20]\tvalid_0's multi_logloss: 0.322081\n",
      "[21]\tvalid_0's multi_logloss: 0.320738\n",
      "[22]\tvalid_0's multi_logloss: 0.319076\n",
      "[23]\tvalid_0's multi_logloss: 0.317739\n",
      "[24]\tvalid_0's multi_logloss: 0.316317\n",
      "[25]\tvalid_0's multi_logloss: 0.315213\n",
      "[26]\tvalid_0's multi_logloss: 0.313746\n",
      "[27]\tvalid_0's multi_logloss: 0.312375\n",
      "[28]\tvalid_0's multi_logloss: 0.311409\n",
      "[29]\tvalid_0's multi_logloss: 0.311069\n",
      "[30]\tvalid_0's multi_logloss: 0.310047\n",
      "[31]\tvalid_0's multi_logloss: 0.309493\n",
      "[32]\tvalid_0's multi_logloss: 0.308935\n",
      "[33]\tvalid_0's multi_logloss: 0.308706\n",
      "[34]\tvalid_0's multi_logloss: 0.308194\n",
      "[35]\tvalid_0's multi_logloss: 0.307959\n",
      "[36]\tvalid_0's multi_logloss: 0.307251\n",
      "[37]\tvalid_0's multi_logloss: 0.306692\n",
      "[38]\tvalid_0's multi_logloss: 0.306642\n",
      "[39]\tvalid_0's multi_logloss: 0.306315\n",
      "[40]\tvalid_0's multi_logloss: 0.305473\n",
      "[41]\tvalid_0's multi_logloss: 0.305838\n",
      "[42]\tvalid_0's multi_logloss: 0.305639\n",
      "[43]\tvalid_0's multi_logloss: 0.305064\n",
      "[44]\tvalid_0's multi_logloss: 0.30481\n",
      "[45]\tvalid_0's multi_logloss: 0.304391\n",
      "[46]\tvalid_0's multi_logloss: 0.30433\n",
      "[47]\tvalid_0's multi_logloss: 0.304209\n",
      "[48]\tvalid_0's multi_logloss: 0.304115\n",
      "[49]\tvalid_0's multi_logloss: 0.30398\n",
      "[50]\tvalid_0's multi_logloss: 0.303653\n",
      "[51]\tvalid_0's multi_logloss: 0.303747\n",
      "[52]\tvalid_0's multi_logloss: 0.303574\n",
      "[53]\tvalid_0's multi_logloss: 0.303463\n",
      "[54]\tvalid_0's multi_logloss: 0.303587\n",
      "[55]\tvalid_0's multi_logloss: 0.303825\n",
      "[56]\tvalid_0's multi_logloss: 0.30395\n",
      "[57]\tvalid_0's multi_logloss: 0.303932\n",
      "[58]\tvalid_0's multi_logloss: 0.304249\n",
      "Early stopping, best iteration is:\n",
      "[53]\tvalid_0's multi_logloss: 0.303463\n"
     ]
    }
   ],
   "source": [
    "import lightgbm as lgb\n",
    "lgb_train = lgb.Dataset(X_train, y_train)\n",
    "lgb_val = lgb.Dataset(X_val, y_val, reference=lgb_train)\n",
    "\n",
    "model = lgb.train(\n",
    "    params=params, # 하이퍼파라미터 지정\n",
    "    train_set=lgb_train,\n",
    "    valid_sets=[lgb_val], # 검증 데이터(리스트 형식)\n",
    "    num_boost_round=1000, # 학습 횟수 = 최대 부스팅 반복 수\n",
    "    callbacks=[\n",
    "        lgb.early_stopping(stopping_rounds=5), # 조기 종료 조건 => 5번 연속 성능이 개선되지 않으면 조기 종료\n",
    "        lgb.log_evaluation(period=1) # 학습 결과의 표시 빈도\n",
    "    ]\n",
    ")"
   ]
  },
  {
   "cell_type": "code",
   "execution_count": 1081,
   "id": "3886347c",
   "metadata": {},
   "outputs": [
    {
     "data": {
      "text/plain": [
       "array([3.11241339e+01, 1.70736775e+02, 3.35214996e+00, 0.00000000e+00,\n",
       "       4.54024601e+01, 6.76671643e+01, 1.04952920e+02, 1.44984639e+02,\n",
       "       1.99256643e+02, 5.63585076e+01, 2.30959399e+01, 1.36924505e+00,\n",
       "       0.00000000e+00, 6.54453719e+01, 5.66210794e+00, 3.17623997e+00,\n",
       "       0.00000000e+00, 2.71198177e+01, 4.48416201e+01, 5.45955588e+01,\n",
       "       6.60045581e+01, 7.75767257e+01, 5.56123605e+01, 6.32312390e+01,\n",
       "       6.39351988e+00, 2.45287901e+01, 0.00000000e+00, 2.48283989e+01,\n",
       "       4.77724981e+00, 3.40556901e+01, 4.62984852e+02, 4.54309287e+02,\n",
       "       2.20534372e+02, 3.07608979e+02, 1.28628763e+03, 4.43466627e+02,\n",
       "       3.32693297e+02, 2.34686838e+02, 2.31031413e+02, 1.33510924e+02,\n",
       "       1.93430502e+01, 2.30864363e+02, 2.55265306e+02, 2.88687232e+02,\n",
       "       9.13881835e+01, 0.00000000e+00, 8.83820698e+01, 7.66136014e+00,\n",
       "       7.98872507e+00, 9.93645600e+01, 1.22139048e+02, 4.13512198e+01,\n",
       "       3.45665073e+01, 8.15176988e+00, 1.95465730e+02, 2.42434422e+02,\n",
       "       2.79016923e+02, 1.47493547e+02, 2.38767211e+02, 2.09439408e+02,\n",
       "       1.65348878e+03, 4.35387061e+02, 4.60028482e+02, 2.70672607e+03,\n",
       "       3.72935746e+02, 5.18632832e+02, 1.82011040e+03, 1.06183378e+03,\n",
       "       3.32595396e+02, 7.91998280e+02, 6.25450734e+02, 7.20598660e+02,\n",
       "       1.89483634e+02, 2.21622579e+02, 4.60336399e+01, 0.00000000e+00,\n",
       "       4.55281001e+00, 0.00000000e+00, 1.41926800e+02, 0.00000000e+00,\n",
       "       8.35807991e+00, 3.54801500e+00, 4.08099700e+01, 9.95639026e+00,\n",
       "       3.20040989e+00, 0.00000000e+00, 0.00000000e+00, 4.05892905e+01,\n",
       "       1.09598643e+02, 2.46276738e+02, 1.99602413e+02, 1.65173030e+02,\n",
       "       8.86661365e+01, 5.35703309e+01, 2.50987740e+02, 2.00459435e+02,\n",
       "       1.94363594e+02, 6.71262614e+01, 1.10049101e+01, 4.02064999e+01,\n",
       "       2.15842733e+02, 7.51102901e+01, 7.75486358e+01, 5.04019600e+01,\n",
       "       1.80998528e+02, 7.63691599e+01, 5.83307389e+01, 1.49160205e+01,\n",
       "       3.86037737e+01, 7.74780157e+01, 2.35152176e+02, 2.55447152e+01,\n",
       "       4.88049300e+01, 5.97242403e+01, 7.88342598e+01, 1.90788956e+02,\n",
       "       2.61601297e+01, 9.83764678e+00, 3.09098704e+01, 4.37502794e+01,\n",
       "       0.00000000e+00, 0.00000000e+00, 6.91432333e+01, 6.63409332e+02,\n",
       "       5.42706495e+02, 2.69795988e+02, 3.05119460e+02, 8.44687223e+00,\n",
       "       1.18982336e+02, 1.17842488e+01, 0.00000000e+00, 0.00000000e+00,\n",
       "       7.75912023e+00, 5.41375399e+01, 5.11687682e+01, 1.87689798e+01,\n",
       "       8.36103441e+01, 6.04835604e+01, 1.07585857e+02, 3.26436303e+01,\n",
       "       6.31817373e+01, 1.49076710e+01, 7.26049902e+01, 3.00235282e+01,\n",
       "       7.15884993e+02, 9.41735064e+02, 5.05750138e+02, 5.69191660e+02,\n",
       "       2.51270006e+02, 2.12612220e+02, 1.19445140e+02, 4.98546718e+01,\n",
       "       9.84764795e+01, 1.03425949e+02, 2.06751230e+01, 4.04819596e+01,\n",
       "       0.00000000e+00, 0.00000000e+00, 1.93099473e+02, 0.00000000e+00])"
      ]
     },
     "execution_count": 1081,
     "metadata": {},
     "output_type": "execute_result"
    }
   ],
   "source": [
    "model.feature_importance(importance_type='gain')"
   ]
  },
  {
   "cell_type": "code",
   "execution_count": 1085,
   "id": "ca1ae9b7",
   "metadata": {},
   "outputs": [
    {
     "data": {
      "text/html": [
       "<div>\n",
       "<style scoped>\n",
       "    .dataframe tbody tr th:only-of-type {\n",
       "        vertical-align: middle;\n",
       "    }\n",
       "\n",
       "    .dataframe tbody tr th {\n",
       "        vertical-align: top;\n",
       "    }\n",
       "\n",
       "    .dataframe thead th {\n",
       "        text-align: right;\n",
       "    }\n",
       "</style>\n",
       "<table border=\"1\" class=\"dataframe\">\n",
       "  <thead>\n",
       "    <tr style=\"text-align: right;\">\n",
       "      <th></th>\n",
       "      <th>importance</th>\n",
       "      <th>importance_pct</th>\n",
       "    </tr>\n",
       "  </thead>\n",
       "  <tbody>\n",
       "    <tr>\n",
       "      <th>wsituation4</th>\n",
       "      <td>435.387061</td>\n",
       "      <td>2.505107</td>\n",
       "    </tr>\n",
       "    <tr>\n",
       "      <th>emp_comp_ass_b</th>\n",
       "      <td>443.466627</td>\n",
       "      <td>2.551594</td>\n",
       "    </tr>\n",
       "    <tr>\n",
       "      <th>emp_manaqual_c</th>\n",
       "      <td>454.309287</td>\n",
       "      <td>2.613980</td>\n",
       "    </tr>\n",
       "    <tr>\n",
       "      <th>wsituation5</th>\n",
       "      <td>460.028482</td>\n",
       "      <td>2.646887</td>\n",
       "    </tr>\n",
       "    <tr>\n",
       "      <th>emp_manaqual_b</th>\n",
       "      <td>462.984852</td>\n",
       "      <td>2.663897</td>\n",
       "    </tr>\n",
       "    <tr>\n",
       "      <th>who2</th>\n",
       "      <td>505.750138</td>\n",
       "      <td>2.909958</td>\n",
       "    </tr>\n",
       "    <tr>\n",
       "      <th>wsituation7</th>\n",
       "      <td>518.632832</td>\n",
       "      <td>2.984082</td>\n",
       "    </tr>\n",
       "    <tr>\n",
       "      <th>wwa3</th>\n",
       "      <td>542.706495</td>\n",
       "      <td>3.122595</td>\n",
       "    </tr>\n",
       "    <tr>\n",
       "      <th>who3</th>\n",
       "      <td>569.191660</td>\n",
       "      <td>3.274984</td>\n",
       "    </tr>\n",
       "    <tr>\n",
       "      <th>wstat3</th>\n",
       "      <td>625.450734</td>\n",
       "      <td>3.598685</td>\n",
       "    </tr>\n",
       "    <tr>\n",
       "      <th>wwa1</th>\n",
       "      <td>663.409332</td>\n",
       "      <td>3.817089</td>\n",
       "    </tr>\n",
       "    <tr>\n",
       "      <th>sleep1</th>\n",
       "      <td>715.884993</td>\n",
       "      <td>4.119021</td>\n",
       "    </tr>\n",
       "    <tr>\n",
       "      <th>wstat5</th>\n",
       "      <td>720.598660</td>\n",
       "      <td>4.146142</td>\n",
       "    </tr>\n",
       "    <tr>\n",
       "      <th>wstat2</th>\n",
       "      <td>791.998280</td>\n",
       "      <td>4.556957</td>\n",
       "    </tr>\n",
       "    <tr>\n",
       "      <th>who1</th>\n",
       "      <td>941.735064</td>\n",
       "      <td>5.418505</td>\n",
       "    </tr>\n",
       "    <tr>\n",
       "      <th>wsituation13</th>\n",
       "      <td>1061.833780</td>\n",
       "      <td>6.109522</td>\n",
       "    </tr>\n",
       "    <tr>\n",
       "      <th>emp_comp_ass_a</th>\n",
       "      <td>1286.287627</td>\n",
       "      <td>7.400973</td>\n",
       "    </tr>\n",
       "    <tr>\n",
       "      <th>wsituation3</th>\n",
       "      <td>1653.488785</td>\n",
       "      <td>9.513755</td>\n",
       "    </tr>\n",
       "    <tr>\n",
       "      <th>wsituation8</th>\n",
       "      <td>1820.110399</td>\n",
       "      <td>10.472453</td>\n",
       "    </tr>\n",
       "    <tr>\n",
       "      <th>wsituation11</th>\n",
       "      <td>2706.726071</td>\n",
       "      <td>15.573815</td>\n",
       "    </tr>\n",
       "  </tbody>\n",
       "</table>\n",
       "</div>"
      ],
      "text/plain": [
       "                 importance  importance_pct\n",
       "wsituation4      435.387061        2.505107\n",
       "emp_comp_ass_b   443.466627        2.551594\n",
       "emp_manaqual_c   454.309287        2.613980\n",
       "wsituation5      460.028482        2.646887\n",
       "emp_manaqual_b   462.984852        2.663897\n",
       "who2             505.750138        2.909958\n",
       "wsituation7      518.632832        2.984082\n",
       "wwa3             542.706495        3.122595\n",
       "who3             569.191660        3.274984\n",
       "wstat3           625.450734        3.598685\n",
       "wwa1             663.409332        3.817089\n",
       "sleep1           715.884993        4.119021\n",
       "wstat5           720.598660        4.146142\n",
       "wstat2           791.998280        4.556957\n",
       "who1             941.735064        5.418505\n",
       "wsituation13    1061.833780        6.109522\n",
       "emp_comp_ass_a  1286.287627        7.400973\n",
       "wsituation3     1653.488785        9.513755\n",
       "wsituation8     1820.110399       10.472453\n",
       "wsituation11    2706.726071       15.573815"
      ]
     },
     "execution_count": 1085,
     "metadata": {},
     "output_type": "execute_result"
    }
   ],
   "source": [
    "importance = pd.DataFrame(model.feature_importance(importance_type='gain'), index=X_train.columns, columns=[\"importance\"]).sort_values(by=\"importance\",ascending = True).tail(20)\n",
    "importance\n",
    "\n",
    "# 변수중요도 비율로 전환\n",
    "importance['importance_pct'] = importance['importance'] / importance['importance'].sum() * 100\n",
    "importance.head(20)"
   ]
  },
  {
   "cell_type": "code",
   "execution_count": 1088,
   "id": "4d783aaf",
   "metadata": {},
   "outputs": [
    {
     "data": {
      "image/png": "[encoded data removed]",
      "text/plain": [
       "<Figure size 800x550 with 1 Axes>"
      ]
     },
     "metadata": {},
     "output_type": "display_data"
    }
   ],
   "source": [
    "importance['importance_pct'].plot.barh()\n",
    "plt.show()"
   ]
  },
  {
   "cell_type": "markdown",
   "id": "c2caf18a",
   "metadata": {},
   "source": [
    "### SHAP "
   ]
  },
  {
   "cell_type": "code",
   "execution_count": 1100,
   "id": "47b878db",
   "metadata": {},
   "outputs": [
    {
     "data": {
      "text/plain": [
       ".values =\n",
       "array([[[ 1.86188049e-04, -3.64971873e-03, -2.74615309e-04],\n",
       "        [-8.61888593e-03, -7.61161587e-03, -3.77356729e-03],\n",
       "        [ 0.00000000e+00,  1.06055636e-03,  0.00000000e+00],\n",
       "        ...,\n",
       "        [ 0.00000000e+00,  0.00000000e+00,  0.00000000e+00],\n",
       "        [ 1.34502946e-02, -3.02961385e-03,  1.12138571e-02],\n",
       "        [ 0.00000000e+00,  0.00000000e+00,  0.00000000e+00]],\n",
       "\n",
       "       [[ 3.64818996e-04, -1.09106606e-03, -1.46999489e-04],\n",
       "        [-5.48451909e-03, -4.71215998e-03, -1.07690645e-01],\n",
       "        [ 0.00000000e+00,  9.28633751e-04,  0.00000000e+00],\n",
       "        ...,\n",
       "        [ 0.00000000e+00,  0.00000000e+00,  0.00000000e+00],\n",
       "        [-2.44414608e-02,  2.09338975e-02,  3.09211942e-03],\n",
       "        [ 0.00000000e+00,  0.00000000e+00,  0.00000000e+00]],\n",
       "\n",
       "       [[ 2.50689703e-03, -3.74823071e-03, -1.46999489e-04],\n",
       "        [-4.52847333e-03,  4.05528876e-03,  1.32367499e-02],\n",
       "        [ 0.00000000e+00,  1.02316133e-03,  0.00000000e+00],\n",
       "        ...,\n",
       "        [ 0.00000000e+00,  0.00000000e+00,  0.00000000e+00],\n",
       "        [ 5.94016629e-03, -3.93285800e-03,  9.84372241e-03],\n",
       "        [ 0.00000000e+00,  0.00000000e+00,  0.00000000e+00]],\n",
       "\n",
       "       ...,\n",
       "\n",
       "       [[ 2.12733488e-04, -1.23548316e-03, -6.71139452e-04],\n",
       "        [-7.00390790e-03, -1.32442774e-03, -1.13502647e-02],\n",
       "        [ 0.00000000e+00,  1.87555921e-05,  0.00000000e+00],\n",
       "        ...,\n",
       "        [ 0.00000000e+00,  0.00000000e+00,  0.00000000e+00],\n",
       "        [ 7.29124084e-04, -2.79606742e-03,  1.37571422e-02],\n",
       "        [ 0.00000000e+00,  0.00000000e+00,  0.00000000e+00]],\n",
       "\n",
       "       [[ 2.12733488e-04, -9.38363197e-04, -1.60042515e-04],\n",
       "        [-7.37841174e-03, -7.03859002e-03, -5.50049400e-03],\n",
       "        [ 0.00000000e+00, -1.84132482e-03,  0.00000000e+00],\n",
       "        ...,\n",
       "        [ 0.00000000e+00,  0.00000000e+00,  0.00000000e+00],\n",
       "        [ 3.58647042e-03, -1.24197020e-02,  4.75047824e-03],\n",
       "        [ 0.00000000e+00,  0.00000000e+00,  0.00000000e+00]],\n",
       "\n",
       "       [[ 2.12733488e-04, -7.35508855e-04, -7.42203799e-04],\n",
       "        [-6.80000550e-03, -2.46408586e-03, -5.53009518e-03],\n",
       "        [ 0.00000000e+00, -1.84132482e-03,  0.00000000e+00],\n",
       "        ...,\n",
       "        [ 0.00000000e+00,  0.00000000e+00,  0.00000000e+00],\n",
       "        [-1.40590305e-03, -3.27119429e-03,  3.20710617e-03],\n",
       "        [ 0.00000000e+00,  0.00000000e+00,  0.00000000e+00]]])\n",
       "\n",
       ".base_values =\n",
       "array([[ 0.27848823, -2.47037998, -6.05895215],\n",
       "       [ 0.27848823, -2.47037998, -6.05895215],\n",
       "       [ 0.27848823, -2.47037998, -6.05895215],\n",
       "       ...,\n",
       "       [ 0.27848823, -2.47037998, -6.05895215],\n",
       "       [ 0.27848823, -2.47037998, -6.05895215],\n",
       "       [ 0.27848823, -2.47037998, -6.05895215]])\n",
       "\n",
       ".data =\n",
       "array([[ 2.,  4.,  0., ...,  2.,  5.,  2.],\n",
       "       [ 2., 11.,  0., ...,  2.,  6.,  2.],\n",
       "       [ 2.,  1.,  0., ...,  2.,  5.,  2.],\n",
       "       ...,\n",
       "       [ 2.,  4.,  0., ...,  2.,  5.,  2.],\n",
       "       [ 2.,  4.,  0., ...,  2.,  5.,  2.],\n",
       "       [ 2.,  4.,  0., ...,  2.,  5.,  2.]])"
      ]
     },
     "execution_count": 1100,
     "metadata": {},
     "output_type": "execute_result"
    }
   ],
   "source": [
    "import shap\n",
    "explainer = shap.TreeExplainer(model)\n",
    "shap_values = explainer(train_X)\n",
    "shap_values"
   ]
  },
  {
   "cell_type": "code",
   "execution_count": 1101,
   "id": "e40bb30e",
   "metadata": {},
   "outputs": [
    {
     "data": {
      "image/png": "[encoded data removed]",
      "text/plain": [
       "<Figure size 800x950 with 1 Axes>"
      ]
     },
     "metadata": {},
     "output_type": "display_data"
    }
   ],
   "source": [
    "shap.summary_plot(shap_values, train_X)"
   ]
  },
  {
   "cell_type": "code",
   "execution_count": 1104,
   "id": "d3af95b8",
   "metadata": {},
   "outputs": [
    {
     "name": "stdout",
     "output_type": "stream",
     "text": [
      "<class 'shap._explanation.Explanation'>\n",
      "배열 구조: (11243, 160, 3)\n"
     ]
    }
   ],
   "source": [
    "print(type(shap_values))\n",
    "if isinstance(shap_values, list):\n",
    "    print(\"리스트 구조:\", [arr.shape for arr in shap_values])\n",
    "else:\n",
    "    print(\"배열 구조:\", shap_values.shape)"
   ]
  },
  {
   "cell_type": "code",
   "execution_count": 1106,
   "id": "441c234f",
   "metadata": {},
   "outputs": [
    {
     "data": {
      "image/png": "[encoded data removed]",
      "text/plain": [
       "<Figure size 800x950 with 2 Axes>"
      ]
     },
     "metadata": {},
     "output_type": "display_data"
    }
   ],
   "source": [
    "# 클래스 1만 선택\n",
    "shap_values_class1 = shap_values[:,:,1]   # (n_samples, n_features)\n",
    "\n",
    "# summary plot\n",
    "shap.summary_plot(shap_values_class1, train_X)"
   ]
  }
 ],
 "metadata": {
  "kernelspec": {
   "display_name": "python310",
   "language": "python",
   "name": "python3"
  },
  "language_info": {
   "codemirror_mode": {
    "name": "ipython",
    "version": 3
   },
   "file_extension": ".py",
   "mimetype": "text/x-python",
   "name": "python",
   "nbconvert_exporter": "python",
   "pygments_lexer": "ipython3",
   "version": "3.10.12"
  }
 },
 "nbformat": 4,
 "nbformat_minor": 5
}
