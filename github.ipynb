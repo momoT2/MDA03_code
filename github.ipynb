{
  "nbformat": 4,
  "nbformat_minor": 0,
  "metadata": {
    "colab": {
      "provenance": [],
      "authorship_tag": "ABX9TyPn4LzXQFrf8Ofkgj9KjKXX",
      "include_colab_link": true
    },
    "kernelspec": {
      "name": "python3",
      "display_name": "Python 3"
    },
    "language_info": {
      "name": "python"
    }
  },
  "cells": [
    {
      "cell_type": "markdown",
      "metadata": {
        "id": "view-in-github",
        "colab_type": "text"
      },
      "source": [
        "<a href=\"https://colab.research.google.com/github/momoT2/MDA03_code/blob/main/github.ipynb\" target=\"_parent\"><img src=\"https://colab.research.google.com/assets/colab-badge.svg\" alt=\"Open In Colab\"/></a>"
      ]
    },
    {
      "cell_type": "code",
      "execution_count": null,
      "metadata": {
        "id": "1LHg5Q84qQBP"
      },
      "outputs": [],
      "source": [
        "# 깃 간편 안내\n",
        "# https://rogerdudler.github.io/git-guide/index.ko.html"
      ]
    },
    {
      "cell_type": "code",
      "source": [
        "# 마크다운 치트시트\n",
        "# https://markdownguide.offshoot.io/cheat-sheet/#downloads"
      ],
      "metadata": {
        "id": "K12TxiiftxuL"
      },
      "execution_count": null,
      "outputs": []
    },
    {
      "cell_type": "code",
      "source": [
        "# 설치할 때 vscode 편집으로 설정하기"
      ],
      "metadata": {
        "id": "-X_cdhxut1Ms"
      },
      "execution_count": null,
      "outputs": []
    },
    {
      "cell_type": "code",
      "source": [
        "# .gitignore\n",
        "# 버전관리 하지 않는 파일 설정"
      ],
      "metadata": {
        "id": "OZeIaotxuMti"
      },
      "execution_count": null,
      "outputs": []
    },
    {
      "cell_type": "code",
      "source": [
        "# 로컬에서 올리는 건 PUSH\n",
        "# 깃허브에서 VScode로 가는 건 <>Code 누르고 HTTPS 클론"
      ],
      "metadata": {
        "id": "FpzqUV7n0tKe"
      },
      "execution_count": null,
      "outputs": []
    },
    {
      "cell_type": "code",
      "source": [
        "# 리포지토리 = 원격 저장소\n",
        "\n",
        "# 지역 저장소가 아닌 컴퓨터나 서버에 만든 저장소\n",
        "# 지역 저장소와 연결되어 있으면서 ‘백업’과 ‘협업’에서 중요한 역할\n",
        "# 인터넷에서 원격 저장소 제공 서비스를 주로 사용 🡪 깃허브"
      ],
      "metadata": {
        "id": "7x-sFFs-4Nul"
      },
      "execution_count": null,
      "outputs": []
    },
    {
      "cell_type": "code",
      "source": [
        "# VScode랑 깃허브 연결\n",
        "\n",
        "# git bash 열고\n",
        "# git config --global user.name \"유저이름\"\n",
        "# git config --global user.email \"유저이메일\""
      ],
      "metadata": {
        "id": "TRYUNxkm4P2L"
      },
      "execution_count": null,
      "outputs": []
    }
  ]
}